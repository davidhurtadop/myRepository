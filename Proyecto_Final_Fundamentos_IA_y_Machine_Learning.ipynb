{
  "nbformat": 4,
  "nbformat_minor": 0,
  "metadata": {
    "colab": {
      "name": "Proyecto Final - Fundamentos IA y Machine Learning",
      "provenance": [],
      "collapsed_sections": [
        "oSxT5JFo7v4D",
        "GeEsDx2s8ZeK",
        "TXPsZG829rVn",
        "kGtFQmShRhOj",
        "Sii2rbJiVd7M"
      ]
    },
    "kernelspec": {
      "name": "python3",
      "display_name": "Python 3"
    },
    "language_info": {
      "name": "python"
    }
  },
  "cells": [
    {
      "cell_type": "markdown",
      "source": [
        "# **Proyecto Final:**\n",
        "# _Fundamentos de IA y Machine Learning_\n",
        "## Descripción\n",
        "El proyecto engloba el recorrido realizado por los tres sprints del módulo. Se pretende realizar una modelo predictivo basado en la regresión para calcular el precio de una vivienda función de las distintas variables del dataset, eligiendo el modelo que mejor se adapte según las métricas analizadas. Se deben realizar, al menos, 3 escenarios hipotéticos para poder compararlos y señalar el escenario más optimo.\n",
        "\n",
        "Para el proyecto, utilizaremos el siguiente dataset público que encontramos en [Kaggle](https://www.kaggle.com/shree1992/housedata).\n",
        "\n",
        "**Fases del proyecto:** \n",
        "\n",
        "- `Fase 1:` Importación del dataset\n",
        "- `Fase 2:` Análisis exploratorio de los datos\n",
        "- `Fase 3:` Fase de entrenamiento\n",
        "- `Fase 4:` Evaluación y análisis de los resultados\n",
        "\n",
        "- `_Fase adicional (optativa):_` Investigar las diferentes cloud vistas durante la clase 3 e importar el proyecto en uno de los cloud."
      ],
      "metadata": {
        "id": "cnInSDOz6o-A"
      }
    },
    {
      "cell_type": "markdown",
      "source": [
        "## FASE 1: Importar el Dataset\n",
        "Importar el dataset desde kaggle."
      ],
      "metadata": {
        "id": "oSxT5JFo7v4D"
      }
    },
    {
      "cell_type": "code",
      "execution_count": null,
      "metadata": {
        "id": "rbJmwL-g5gr1"
      },
      "outputs": [],
      "source": [
        "# Importar el dataset House price prediction\n",
        "from google.colab import files\n",
        "!pip install -q kaggle"
      ]
    },
    {
      "cell_type": "code",
      "source": [
        "#Subir kaggle.json -> Se genera en Account como un API\n",
        "uploaded = files.upload()"
      ],
      "metadata": {
        "colab": {
          "resources": {
            "http://localhost:8080/nbextensions/google.colab/files.js": {
              "data": "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",
              "ok": true,
              "headers": [
                [
                  "content-type",
                  "application/javascript"
                ]
              ],
              "status": 200,
              "status_text": ""
            }
          },
          "base_uri": "https://localhost:8080/",
          "height": 73
        },
        "id": "e3Mux9kF_aS-",
        "outputId": "8be2f3b2-1d2d-497f-dbdf-425e58d17bc3"
      },
      "execution_count": null,
      "outputs": [
        {
          "output_type": "display_data",
          "data": {
            "text/html": [
              "\n",
              "     <input type=\"file\" id=\"files-c4899b3b-8db8-44b1-965c-3c4afe868c7b\" name=\"files[]\" multiple disabled\n",
              "        style=\"border:none\" />\n",
              "     <output id=\"result-c4899b3b-8db8-44b1-965c-3c4afe868c7b\">\n",
              "      Upload widget is only available when the cell has been executed in the\n",
              "      current browser session. Please rerun this cell to enable.\n",
              "      </output>\n",
              "      <script src=\"/nbextensions/google.colab/files.js\"></script> "
            ],
            "text/plain": [
              "<IPython.core.display.HTML object>"
            ]
          },
          "metadata": {}
        },
        {
          "output_type": "stream",
          "name": "stdout",
          "text": [
            "Saving kaggle.json to kaggle.json\n"
          ]
        }
      ]
    },
    {
      "cell_type": "code",
      "source": [
        "# Descargar el fichero de Kaggle\n",
        "!kaggle datasets download -d shree1992/housedata"
      ],
      "metadata": {
        "colab": {
          "base_uri": "https://localhost:8080/"
        },
        "id": "1y8FXNvy9v6K",
        "outputId": "1dbeeeb9-f4f8-46b1-9b66-cec2f7602050"
      },
      "execution_count": null,
      "outputs": [
        {
          "output_type": "stream",
          "name": "stdout",
          "text": [
            "Traceback (most recent call last):\n",
            "  File \"/usr/local/bin/kaggle\", line 5, in <module>\n",
            "    from kaggle.cli import main\n",
            "  File \"/usr/local/lib/python2.7/dist-packages/kaggle/__init__.py\", line 23, in <module>\n",
            "    api.authenticate()\n",
            "  File \"/usr/local/lib/python2.7/dist-packages/kaggle/api/kaggle_api_extended.py\", line 146, in authenticate\n",
            "    self.config_file, self.config_dir))\n",
            "IOError: Could not find kaggle.json. Make sure it's located in /root/.kaggle. Or use the environment method.\n"
          ]
        }
      ]
    },
    {
      "cell_type": "code",
      "source": [
        "# Mover fichero\n",
        "!mv kaggle.json /root/.kaggle/kaggle.json"
      ],
      "metadata": {
        "id": "MEKBt_dJ97_i"
      },
      "execution_count": null,
      "outputs": []
    },
    {
      "cell_type": "code",
      "source": [
        "# Volver a cargar datasete\n",
        "!kaggle datasets download -d shree1992/housedata"
      ],
      "metadata": {
        "colab": {
          "base_uri": "https://localhost:8080/"
        },
        "id": "UGd2BLkt-E2m",
        "outputId": "3f824b15-44b1-4419-cd7d-aaba9f9ee376"
      },
      "execution_count": null,
      "outputs": [
        {
          "output_type": "stream",
          "name": "stdout",
          "text": [
            "Warning: Your Kaggle API key is readable by other users on this system! To fix this, you can run 'chmod 600 /root/.kaggle/kaggle.json'\n",
            "Downloading housedata.zip to /content\n",
            "  0% 0.00/432k [00:00<?, ?B/s]\n",
            "100% 432k/432k [00:00<00:00, 29.6MB/s]\n"
          ]
        }
      ]
    },
    {
      "cell_type": "code",
      "source": [
        "# Descomprimir DS\n",
        "!unzip housedata.zip"
      ],
      "metadata": {
        "colab": {
          "base_uri": "https://localhost:8080/"
        },
        "id": "Sbm0IAoU-KpN",
        "outputId": "5fdefe46-6c07-4610-b0b9-f73619c000da"
      },
      "execution_count": null,
      "outputs": [
        {
          "output_type": "stream",
          "name": "stdout",
          "text": [
            "Archive:  housedata.zip\n",
            "  inflating: data.csv                \n",
            "  inflating: data.dat                \n",
            "  inflating: output.csv              \n"
          ]
        }
      ]
    },
    {
      "cell_type": "markdown",
      "source": [
        "## FASE 2: Análisis exploratorio de los datos\n",
        "Análisis de los datos del dataset `Housedata`, específicamente el archivo _data.csv_."
      ],
      "metadata": {
        "id": "GeEsDx2s8ZeK"
      }
    },
    {
      "cell_type": "markdown",
      "source": [
        "### Exploración"
      ],
      "metadata": {
        "id": "Hxx2GIYJGJoV"
      }
    },
    {
      "cell_type": "code",
      "source": [
        "# Librería o Módulo para manejo de archivos\n",
        "import pandas as pd "
      ],
      "metadata": {
        "id": "x8yUU6Vc7yME"
      },
      "execution_count": null,
      "outputs": []
    },
    {
      "cell_type": "code",
      "source": [
        "# Asignar los datos del dataset a variable\n",
        "ds_house = pd.read_csv('data.csv')"
      ],
      "metadata": {
        "id": "K9QuhrNMAfWK"
      },
      "execution_count": null,
      "outputs": []
    },
    {
      "cell_type": "code",
      "source": [
        "# Explorar las primeras líneas del dataset\n",
        "ds_house.head()"
      ],
      "metadata": {
        "colab": {
          "base_uri": "https://localhost:8080/",
          "height": 461
        },
        "id": "PgVho2db8ea-",
        "outputId": "87235a23-04cb-4bff-edcb-612673d6d0ac"
      },
      "execution_count": null,
      "outputs": [
        {
          "output_type": "execute_result",
          "data": {
            "text/html": [
              "\n",
              "  <div id=\"df-d6501fb9-f603-4cd0-88db-8785b6890a71\">\n",
              "    <div class=\"colab-df-container\">\n",
              "      <div>\n",
              "<style scoped>\n",
              "    .dataframe tbody tr th:only-of-type {\n",
              "        vertical-align: middle;\n",
              "    }\n",
              "\n",
              "    .dataframe tbody tr th {\n",
              "        vertical-align: top;\n",
              "    }\n",
              "\n",
              "    .dataframe thead th {\n",
              "        text-align: right;\n",
              "    }\n",
              "</style>\n",
              "<table border=\"1\" class=\"dataframe\">\n",
              "  <thead>\n",
              "    <tr style=\"text-align: right;\">\n",
              "      <th></th>\n",
              "      <th>date</th>\n",
              "      <th>price</th>\n",
              "      <th>bedrooms</th>\n",
              "      <th>bathrooms</th>\n",
              "      <th>sqft_living</th>\n",
              "      <th>sqft_lot</th>\n",
              "      <th>floors</th>\n",
              "      <th>waterfront</th>\n",
              "      <th>view</th>\n",
              "      <th>condition</th>\n",
              "      <th>sqft_above</th>\n",
              "      <th>sqft_basement</th>\n",
              "      <th>yr_built</th>\n",
              "      <th>yr_renovated</th>\n",
              "      <th>street</th>\n",
              "      <th>city</th>\n",
              "      <th>statezip</th>\n",
              "      <th>country</th>\n",
              "    </tr>\n",
              "  </thead>\n",
              "  <tbody>\n",
              "    <tr>\n",
              "      <th>0</th>\n",
              "      <td>2014-05-02 00:00:00</td>\n",
              "      <td>313000.0</td>\n",
              "      <td>3.0</td>\n",
              "      <td>1.50</td>\n",
              "      <td>1340</td>\n",
              "      <td>7912</td>\n",
              "      <td>1.5</td>\n",
              "      <td>0</td>\n",
              "      <td>0</td>\n",
              "      <td>3</td>\n",
              "      <td>1340</td>\n",
              "      <td>0</td>\n",
              "      <td>1955</td>\n",
              "      <td>2005</td>\n",
              "      <td>18810 Densmore Ave N</td>\n",
              "      <td>Shoreline</td>\n",
              "      <td>WA 98133</td>\n",
              "      <td>USA</td>\n",
              "    </tr>\n",
              "    <tr>\n",
              "      <th>1</th>\n",
              "      <td>2014-05-02 00:00:00</td>\n",
              "      <td>2384000.0</td>\n",
              "      <td>5.0</td>\n",
              "      <td>2.50</td>\n",
              "      <td>3650</td>\n",
              "      <td>9050</td>\n",
              "      <td>2.0</td>\n",
              "      <td>0</td>\n",
              "      <td>4</td>\n",
              "      <td>5</td>\n",
              "      <td>3370</td>\n",
              "      <td>280</td>\n",
              "      <td>1921</td>\n",
              "      <td>0</td>\n",
              "      <td>709 W Blaine St</td>\n",
              "      <td>Seattle</td>\n",
              "      <td>WA 98119</td>\n",
              "      <td>USA</td>\n",
              "    </tr>\n",
              "    <tr>\n",
              "      <th>2</th>\n",
              "      <td>2014-05-02 00:00:00</td>\n",
              "      <td>342000.0</td>\n",
              "      <td>3.0</td>\n",
              "      <td>2.00</td>\n",
              "      <td>1930</td>\n",
              "      <td>11947</td>\n",
              "      <td>1.0</td>\n",
              "      <td>0</td>\n",
              "      <td>0</td>\n",
              "      <td>4</td>\n",
              "      <td>1930</td>\n",
              "      <td>0</td>\n",
              "      <td>1966</td>\n",
              "      <td>0</td>\n",
              "      <td>26206-26214 143rd Ave SE</td>\n",
              "      <td>Kent</td>\n",
              "      <td>WA 98042</td>\n",
              "      <td>USA</td>\n",
              "    </tr>\n",
              "    <tr>\n",
              "      <th>3</th>\n",
              "      <td>2014-05-02 00:00:00</td>\n",
              "      <td>420000.0</td>\n",
              "      <td>3.0</td>\n",
              "      <td>2.25</td>\n",
              "      <td>2000</td>\n",
              "      <td>8030</td>\n",
              "      <td>1.0</td>\n",
              "      <td>0</td>\n",
              "      <td>0</td>\n",
              "      <td>4</td>\n",
              "      <td>1000</td>\n",
              "      <td>1000</td>\n",
              "      <td>1963</td>\n",
              "      <td>0</td>\n",
              "      <td>857 170th Pl NE</td>\n",
              "      <td>Bellevue</td>\n",
              "      <td>WA 98008</td>\n",
              "      <td>USA</td>\n",
              "    </tr>\n",
              "    <tr>\n",
              "      <th>4</th>\n",
              "      <td>2014-05-02 00:00:00</td>\n",
              "      <td>550000.0</td>\n",
              "      <td>4.0</td>\n",
              "      <td>2.50</td>\n",
              "      <td>1940</td>\n",
              "      <td>10500</td>\n",
              "      <td>1.0</td>\n",
              "      <td>0</td>\n",
              "      <td>0</td>\n",
              "      <td>4</td>\n",
              "      <td>1140</td>\n",
              "      <td>800</td>\n",
              "      <td>1976</td>\n",
              "      <td>1992</td>\n",
              "      <td>9105 170th Ave NE</td>\n",
              "      <td>Redmond</td>\n",
              "      <td>WA 98052</td>\n",
              "      <td>USA</td>\n",
              "    </tr>\n",
              "  </tbody>\n",
              "</table>\n",
              "</div>\n",
              "      <button class=\"colab-df-convert\" onclick=\"convertToInteractive('df-d6501fb9-f603-4cd0-88db-8785b6890a71')\"\n",
              "              title=\"Convert this dataframe to an interactive table.\"\n",
              "              style=\"display:none;\">\n",
              "        \n",
              "  <svg xmlns=\"http://www.w3.org/2000/svg\" height=\"24px\"viewBox=\"0 0 24 24\"\n",
              "       width=\"24px\">\n",
              "    <path d=\"M0 0h24v24H0V0z\" fill=\"none\"/>\n",
              "    <path d=\"M18.56 5.44l.94 2.06.94-2.06 2.06-.94-2.06-.94-.94-2.06-.94 2.06-2.06.94zm-11 1L8.5 8.5l.94-2.06 2.06-.94-2.06-.94L8.5 2.5l-.94 2.06-2.06.94zm10 10l.94 2.06.94-2.06 2.06-.94-2.06-.94-.94-2.06-.94 2.06-2.06.94z\"/><path d=\"M17.41 7.96l-1.37-1.37c-.4-.4-.92-.59-1.43-.59-.52 0-1.04.2-1.43.59L10.3 9.45l-7.72 7.72c-.78.78-.78 2.05 0 2.83L4 21.41c.39.39.9.59 1.41.59.51 0 1.02-.2 1.41-.59l7.78-7.78 2.81-2.81c.8-.78.8-2.07 0-2.86zM5.41 20L4 18.59l7.72-7.72 1.47 1.35L5.41 20z\"/>\n",
              "  </svg>\n",
              "      </button>\n",
              "      \n",
              "  <style>\n",
              "    .colab-df-container {\n",
              "      display:flex;\n",
              "      flex-wrap:wrap;\n",
              "      gap: 12px;\n",
              "    }\n",
              "\n",
              "    .colab-df-convert {\n",
              "      background-color: #E8F0FE;\n",
              "      border: none;\n",
              "      border-radius: 50%;\n",
              "      cursor: pointer;\n",
              "      display: none;\n",
              "      fill: #1967D2;\n",
              "      height: 32px;\n",
              "      padding: 0 0 0 0;\n",
              "      width: 32px;\n",
              "    }\n",
              "\n",
              "    .colab-df-convert:hover {\n",
              "      background-color: #E2EBFA;\n",
              "      box-shadow: 0px 1px 2px rgba(60, 64, 67, 0.3), 0px 1px 3px 1px rgba(60, 64, 67, 0.15);\n",
              "      fill: #174EA6;\n",
              "    }\n",
              "\n",
              "    [theme=dark] .colab-df-convert {\n",
              "      background-color: #3B4455;\n",
              "      fill: #D2E3FC;\n",
              "    }\n",
              "\n",
              "    [theme=dark] .colab-df-convert:hover {\n",
              "      background-color: #434B5C;\n",
              "      box-shadow: 0px 1px 3px 1px rgba(0, 0, 0, 0.15);\n",
              "      filter: drop-shadow(0px 1px 2px rgba(0, 0, 0, 0.3));\n",
              "      fill: #FFFFFF;\n",
              "    }\n",
              "  </style>\n",
              "\n",
              "      <script>\n",
              "        const buttonEl =\n",
              "          document.querySelector('#df-d6501fb9-f603-4cd0-88db-8785b6890a71 button.colab-df-convert');\n",
              "        buttonEl.style.display =\n",
              "          google.colab.kernel.accessAllowed ? 'block' : 'none';\n",
              "\n",
              "        async function convertToInteractive(key) {\n",
              "          const element = document.querySelector('#df-d6501fb9-f603-4cd0-88db-8785b6890a71');\n",
              "          const dataTable =\n",
              "            await google.colab.kernel.invokeFunction('convertToInteractive',\n",
              "                                                     [key], {});\n",
              "          if (!dataTable) return;\n",
              "\n",
              "          const docLinkHtml = 'Like what you see? Visit the ' +\n",
              "            '<a target=\"_blank\" href=https://colab.research.google.com/notebooks/data_table.ipynb>data table notebook</a>'\n",
              "            + ' to learn more about interactive tables.';\n",
              "          element.innerHTML = '';\n",
              "          dataTable['output_type'] = 'display_data';\n",
              "          await google.colab.output.renderOutput(dataTable, element);\n",
              "          const docLink = document.createElement('div');\n",
              "          docLink.innerHTML = docLinkHtml;\n",
              "          element.appendChild(docLink);\n",
              "        }\n",
              "      </script>\n",
              "    </div>\n",
              "  </div>\n",
              "  "
            ],
            "text/plain": [
              "                  date      price  bedrooms  ...       city  statezip  country\n",
              "0  2014-05-02 00:00:00   313000.0       3.0  ...  Shoreline  WA 98133      USA\n",
              "1  2014-05-02 00:00:00  2384000.0       5.0  ...    Seattle  WA 98119      USA\n",
              "2  2014-05-02 00:00:00   342000.0       3.0  ...       Kent  WA 98042      USA\n",
              "3  2014-05-02 00:00:00   420000.0       3.0  ...   Bellevue  WA 98008      USA\n",
              "4  2014-05-02 00:00:00   550000.0       4.0  ...    Redmond  WA 98052      USA\n",
              "\n",
              "[5 rows x 18 columns]"
            ]
          },
          "metadata": {},
          "execution_count": 11
        }
      ]
    },
    {
      "cell_type": "code",
      "source": [
        "# Consultar datos estadísticos generales\n",
        "ds_house.describe().transpose()"
      ],
      "metadata": {
        "colab": {
          "base_uri": "https://localhost:8080/",
          "height": 501
        },
        "id": "IE_7CkkA8onq",
        "outputId": "0c60c5bf-8636-4ad9-89d3-695aab003f30"
      },
      "execution_count": null,
      "outputs": [
        {
          "output_type": "execute_result",
          "data": {
            "text/html": [
              "\n",
              "  <div id=\"df-968e0664-6969-45bd-99eb-050ce46a650e\">\n",
              "    <div class=\"colab-df-container\">\n",
              "      <div>\n",
              "<style scoped>\n",
              "    .dataframe tbody tr th:only-of-type {\n",
              "        vertical-align: middle;\n",
              "    }\n",
              "\n",
              "    .dataframe tbody tr th {\n",
              "        vertical-align: top;\n",
              "    }\n",
              "\n",
              "    .dataframe thead th {\n",
              "        text-align: right;\n",
              "    }\n",
              "</style>\n",
              "<table border=\"1\" class=\"dataframe\">\n",
              "  <thead>\n",
              "    <tr style=\"text-align: right;\">\n",
              "      <th></th>\n",
              "      <th>count</th>\n",
              "      <th>mean</th>\n",
              "      <th>std</th>\n",
              "      <th>min</th>\n",
              "      <th>25%</th>\n",
              "      <th>50%</th>\n",
              "      <th>75%</th>\n",
              "      <th>max</th>\n",
              "    </tr>\n",
              "  </thead>\n",
              "  <tbody>\n",
              "    <tr>\n",
              "      <th>price</th>\n",
              "      <td>4600.0</td>\n",
              "      <td>551962.988473</td>\n",
              "      <td>563834.702547</td>\n",
              "      <td>0.0</td>\n",
              "      <td>322875.00</td>\n",
              "      <td>460943.461539</td>\n",
              "      <td>654962.50</td>\n",
              "      <td>26590000.0</td>\n",
              "    </tr>\n",
              "    <tr>\n",
              "      <th>bedrooms</th>\n",
              "      <td>4600.0</td>\n",
              "      <td>3.400870</td>\n",
              "      <td>0.908848</td>\n",
              "      <td>0.0</td>\n",
              "      <td>3.00</td>\n",
              "      <td>3.000000</td>\n",
              "      <td>4.00</td>\n",
              "      <td>9.0</td>\n",
              "    </tr>\n",
              "    <tr>\n",
              "      <th>bathrooms</th>\n",
              "      <td>4600.0</td>\n",
              "      <td>2.160815</td>\n",
              "      <td>0.783781</td>\n",
              "      <td>0.0</td>\n",
              "      <td>1.75</td>\n",
              "      <td>2.250000</td>\n",
              "      <td>2.50</td>\n",
              "      <td>8.0</td>\n",
              "    </tr>\n",
              "    <tr>\n",
              "      <th>sqft_living</th>\n",
              "      <td>4600.0</td>\n",
              "      <td>2139.346957</td>\n",
              "      <td>963.206916</td>\n",
              "      <td>370.0</td>\n",
              "      <td>1460.00</td>\n",
              "      <td>1980.000000</td>\n",
              "      <td>2620.00</td>\n",
              "      <td>13540.0</td>\n",
              "    </tr>\n",
              "    <tr>\n",
              "      <th>sqft_lot</th>\n",
              "      <td>4600.0</td>\n",
              "      <td>14852.516087</td>\n",
              "      <td>35884.436145</td>\n",
              "      <td>638.0</td>\n",
              "      <td>5000.75</td>\n",
              "      <td>7683.000000</td>\n",
              "      <td>11001.25</td>\n",
              "      <td>1074218.0</td>\n",
              "    </tr>\n",
              "    <tr>\n",
              "      <th>floors</th>\n",
              "      <td>4600.0</td>\n",
              "      <td>1.512065</td>\n",
              "      <td>0.538288</td>\n",
              "      <td>1.0</td>\n",
              "      <td>1.00</td>\n",
              "      <td>1.500000</td>\n",
              "      <td>2.00</td>\n",
              "      <td>3.5</td>\n",
              "    </tr>\n",
              "    <tr>\n",
              "      <th>waterfront</th>\n",
              "      <td>4600.0</td>\n",
              "      <td>0.007174</td>\n",
              "      <td>0.084404</td>\n",
              "      <td>0.0</td>\n",
              "      <td>0.00</td>\n",
              "      <td>0.000000</td>\n",
              "      <td>0.00</td>\n",
              "      <td>1.0</td>\n",
              "    </tr>\n",
              "    <tr>\n",
              "      <th>view</th>\n",
              "      <td>4600.0</td>\n",
              "      <td>0.240652</td>\n",
              "      <td>0.778405</td>\n",
              "      <td>0.0</td>\n",
              "      <td>0.00</td>\n",
              "      <td>0.000000</td>\n",
              "      <td>0.00</td>\n",
              "      <td>4.0</td>\n",
              "    </tr>\n",
              "    <tr>\n",
              "      <th>condition</th>\n",
              "      <td>4600.0</td>\n",
              "      <td>3.451739</td>\n",
              "      <td>0.677230</td>\n",
              "      <td>1.0</td>\n",
              "      <td>3.00</td>\n",
              "      <td>3.000000</td>\n",
              "      <td>4.00</td>\n",
              "      <td>5.0</td>\n",
              "    </tr>\n",
              "    <tr>\n",
              "      <th>sqft_above</th>\n",
              "      <td>4600.0</td>\n",
              "      <td>1827.265435</td>\n",
              "      <td>862.168977</td>\n",
              "      <td>370.0</td>\n",
              "      <td>1190.00</td>\n",
              "      <td>1590.000000</td>\n",
              "      <td>2300.00</td>\n",
              "      <td>9410.0</td>\n",
              "    </tr>\n",
              "    <tr>\n",
              "      <th>sqft_basement</th>\n",
              "      <td>4600.0</td>\n",
              "      <td>312.081522</td>\n",
              "      <td>464.137228</td>\n",
              "      <td>0.0</td>\n",
              "      <td>0.00</td>\n",
              "      <td>0.000000</td>\n",
              "      <td>610.00</td>\n",
              "      <td>4820.0</td>\n",
              "    </tr>\n",
              "    <tr>\n",
              "      <th>yr_built</th>\n",
              "      <td>4600.0</td>\n",
              "      <td>1970.786304</td>\n",
              "      <td>29.731848</td>\n",
              "      <td>1900.0</td>\n",
              "      <td>1951.00</td>\n",
              "      <td>1976.000000</td>\n",
              "      <td>1997.00</td>\n",
              "      <td>2014.0</td>\n",
              "    </tr>\n",
              "    <tr>\n",
              "      <th>yr_renovated</th>\n",
              "      <td>4600.0</td>\n",
              "      <td>808.608261</td>\n",
              "      <td>979.414536</td>\n",
              "      <td>0.0</td>\n",
              "      <td>0.00</td>\n",
              "      <td>0.000000</td>\n",
              "      <td>1999.00</td>\n",
              "      <td>2014.0</td>\n",
              "    </tr>\n",
              "  </tbody>\n",
              "</table>\n",
              "</div>\n",
              "      <button class=\"colab-df-convert\" onclick=\"convertToInteractive('df-968e0664-6969-45bd-99eb-050ce46a650e')\"\n",
              "              title=\"Convert this dataframe to an interactive table.\"\n",
              "              style=\"display:none;\">\n",
              "        \n",
              "  <svg xmlns=\"http://www.w3.org/2000/svg\" height=\"24px\"viewBox=\"0 0 24 24\"\n",
              "       width=\"24px\">\n",
              "    <path d=\"M0 0h24v24H0V0z\" fill=\"none\"/>\n",
              "    <path d=\"M18.56 5.44l.94 2.06.94-2.06 2.06-.94-2.06-.94-.94-2.06-.94 2.06-2.06.94zm-11 1L8.5 8.5l.94-2.06 2.06-.94-2.06-.94L8.5 2.5l-.94 2.06-2.06.94zm10 10l.94 2.06.94-2.06 2.06-.94-2.06-.94-.94-2.06-.94 2.06-2.06.94z\"/><path d=\"M17.41 7.96l-1.37-1.37c-.4-.4-.92-.59-1.43-.59-.52 0-1.04.2-1.43.59L10.3 9.45l-7.72 7.72c-.78.78-.78 2.05 0 2.83L4 21.41c.39.39.9.59 1.41.59.51 0 1.02-.2 1.41-.59l7.78-7.78 2.81-2.81c.8-.78.8-2.07 0-2.86zM5.41 20L4 18.59l7.72-7.72 1.47 1.35L5.41 20z\"/>\n",
              "  </svg>\n",
              "      </button>\n",
              "      \n",
              "  <style>\n",
              "    .colab-df-container {\n",
              "      display:flex;\n",
              "      flex-wrap:wrap;\n",
              "      gap: 12px;\n",
              "    }\n",
              "\n",
              "    .colab-df-convert {\n",
              "      background-color: #E8F0FE;\n",
              "      border: none;\n",
              "      border-radius: 50%;\n",
              "      cursor: pointer;\n",
              "      display: none;\n",
              "      fill: #1967D2;\n",
              "      height: 32px;\n",
              "      padding: 0 0 0 0;\n",
              "      width: 32px;\n",
              "    }\n",
              "\n",
              "    .colab-df-convert:hover {\n",
              "      background-color: #E2EBFA;\n",
              "      box-shadow: 0px 1px 2px rgba(60, 64, 67, 0.3), 0px 1px 3px 1px rgba(60, 64, 67, 0.15);\n",
              "      fill: #174EA6;\n",
              "    }\n",
              "\n",
              "    [theme=dark] .colab-df-convert {\n",
              "      background-color: #3B4455;\n",
              "      fill: #D2E3FC;\n",
              "    }\n",
              "\n",
              "    [theme=dark] .colab-df-convert:hover {\n",
              "      background-color: #434B5C;\n",
              "      box-shadow: 0px 1px 3px 1px rgba(0, 0, 0, 0.15);\n",
              "      filter: drop-shadow(0px 1px 2px rgba(0, 0, 0, 0.3));\n",
              "      fill: #FFFFFF;\n",
              "    }\n",
              "  </style>\n",
              "\n",
              "      <script>\n",
              "        const buttonEl =\n",
              "          document.querySelector('#df-968e0664-6969-45bd-99eb-050ce46a650e button.colab-df-convert');\n",
              "        buttonEl.style.display =\n",
              "          google.colab.kernel.accessAllowed ? 'block' : 'none';\n",
              "\n",
              "        async function convertToInteractive(key) {\n",
              "          const element = document.querySelector('#df-968e0664-6969-45bd-99eb-050ce46a650e');\n",
              "          const dataTable =\n",
              "            await google.colab.kernel.invokeFunction('convertToInteractive',\n",
              "                                                     [key], {});\n",
              "          if (!dataTable) return;\n",
              "\n",
              "          const docLinkHtml = 'Like what you see? Visit the ' +\n",
              "            '<a target=\"_blank\" href=https://colab.research.google.com/notebooks/data_table.ipynb>data table notebook</a>'\n",
              "            + ' to learn more about interactive tables.';\n",
              "          element.innerHTML = '';\n",
              "          dataTable['output_type'] = 'display_data';\n",
              "          await google.colab.output.renderOutput(dataTable, element);\n",
              "          const docLink = document.createElement('div');\n",
              "          docLink.innerHTML = docLinkHtml;\n",
              "          element.appendChild(docLink);\n",
              "        }\n",
              "      </script>\n",
              "    </div>\n",
              "  </div>\n",
              "  "
            ],
            "text/plain": [
              "                count           mean  ...        75%         max\n",
              "price          4600.0  551962.988473  ...  654962.50  26590000.0\n",
              "bedrooms       4600.0       3.400870  ...       4.00         9.0\n",
              "bathrooms      4600.0       2.160815  ...       2.50         8.0\n",
              "sqft_living    4600.0    2139.346957  ...    2620.00     13540.0\n",
              "sqft_lot       4600.0   14852.516087  ...   11001.25   1074218.0\n",
              "floors         4600.0       1.512065  ...       2.00         3.5\n",
              "waterfront     4600.0       0.007174  ...       0.00         1.0\n",
              "view           4600.0       0.240652  ...       0.00         4.0\n",
              "condition      4600.0       3.451739  ...       4.00         5.0\n",
              "sqft_above     4600.0    1827.265435  ...    2300.00      9410.0\n",
              "sqft_basement  4600.0     312.081522  ...     610.00      4820.0\n",
              "yr_built       4600.0    1970.786304  ...    1997.00      2014.0\n",
              "yr_renovated   4600.0     808.608261  ...    1999.00      2014.0\n",
              "\n",
              "[13 rows x 8 columns]"
            ]
          },
          "metadata": {},
          "execution_count": 20
        }
      ]
    },
    {
      "cell_type": "code",
      "source": [
        "# Consultar número de filas y columnas\n",
        "ds_house.shape"
      ],
      "metadata": {
        "colab": {
          "base_uri": "https://localhost:8080/"
        },
        "id": "d1xKocvu9H0p",
        "outputId": "5e5d5784-f91f-4257-f4d5-022aa2b402b2"
      },
      "execution_count": null,
      "outputs": [
        {
          "output_type": "execute_result",
          "data": {
            "text/plain": [
              "(4600, 18)"
            ]
          },
          "metadata": {},
          "execution_count": 13
        }
      ]
    },
    {
      "cell_type": "code",
      "source": [
        "# Consultar si existen celdas sin valor\n",
        "ds_house.isnull().sum()"
      ],
      "metadata": {
        "colab": {
          "base_uri": "https://localhost:8080/"
        },
        "id": "igQ8Lvq59RdT",
        "outputId": "2669dfce-7e36-4233-fa6d-9e92aaee8651"
      },
      "execution_count": null,
      "outputs": [
        {
          "output_type": "execute_result",
          "data": {
            "text/plain": [
              "date             0\n",
              "price            0\n",
              "bedrooms         0\n",
              "bathrooms        0\n",
              "sqft_living      0\n",
              "sqft_lot         0\n",
              "floors           0\n",
              "waterfront       0\n",
              "view             0\n",
              "condition        0\n",
              "sqft_above       0\n",
              "sqft_basement    0\n",
              "yr_built         0\n",
              "yr_renovated     0\n",
              "street           0\n",
              "city             0\n",
              "statezip         0\n",
              "country          0\n",
              "dtype: int64"
            ]
          },
          "metadata": {},
          "execution_count": 14
        }
      ]
    },
    {
      "cell_type": "code",
      "source": [
        "# Consultar nombres de columnas\n",
        "ds_house.columns"
      ],
      "metadata": {
        "colab": {
          "base_uri": "https://localhost:8080/"
        },
        "id": "SyX44bO79bYs",
        "outputId": "a1128b5e-e51b-432b-a5bc-b4e0e3e724c9"
      },
      "execution_count": null,
      "outputs": [
        {
          "output_type": "execute_result",
          "data": {
            "text/plain": [
              "Index(['date', 'price', 'bedrooms', 'bathrooms', 'sqft_living', 'sqft_lot',\n",
              "       'floors', 'waterfront', 'view', 'condition', 'sqft_above',\n",
              "       'sqft_basement', 'yr_built', 'yr_renovated', 'street', 'city',\n",
              "       'statezip', 'country'],\n",
              "      dtype='object')"
            ]
          },
          "metadata": {},
          "execution_count": 15
        }
      ]
    },
    {
      "cell_type": "code",
      "source": [
        "ds_house.dtypes"
      ],
      "metadata": {
        "colab": {
          "base_uri": "https://localhost:8080/"
        },
        "id": "SD3lByR1CO7N",
        "outputId": "99aa33ed-d9f5-4596-a45b-1982d3be3650"
      },
      "execution_count": null,
      "outputs": [
        {
          "output_type": "execute_result",
          "data": {
            "text/plain": [
              "date              object\n",
              "price            float64\n",
              "bedrooms         float64\n",
              "bathrooms        float64\n",
              "sqft_living        int64\n",
              "sqft_lot           int64\n",
              "floors           float64\n",
              "waterfront         int64\n",
              "view               int64\n",
              "condition          int64\n",
              "sqft_above         int64\n",
              "sqft_basement      int64\n",
              "yr_built           int64\n",
              "yr_renovated       int64\n",
              "street            object\n",
              "city              object\n",
              "statezip          object\n",
              "country           object\n",
              "dtype: object"
            ]
          },
          "metadata": {},
          "execution_count": 19
        }
      ]
    },
    {
      "cell_type": "code",
      "source": [
        "# Ver cuántos países hay en el dataset\n",
        "pd.unique(ds_house['country'])"
      ],
      "metadata": {
        "colab": {
          "base_uri": "https://localhost:8080/"
        },
        "id": "YEc7jQfvEMV2",
        "outputId": "3d7d2f9c-c1d2-4f73-fe04-54d7c1e08434"
      },
      "execution_count": null,
      "outputs": [
        {
          "output_type": "execute_result",
          "data": {
            "text/plain": [
              "array(['2014-05-02 00:00:00', '2014-05-03 00:00:00',\n",
              "       '2014-05-04 00:00:00', '2014-05-05 00:00:00',\n",
              "       '2014-05-06 00:00:00', '2014-05-07 00:00:00',\n",
              "       '2014-05-08 00:00:00', '2014-05-09 00:00:00',\n",
              "       '2014-05-10 00:00:00', '2014-05-11 00:00:00',\n",
              "       '2014-05-12 00:00:00', '2014-05-13 00:00:00',\n",
              "       '2014-05-14 00:00:00', '2014-05-15 00:00:00',\n",
              "       '2014-05-16 00:00:00', '2014-05-17 00:00:00',\n",
              "       '2014-05-18 00:00:00', '2014-05-19 00:00:00',\n",
              "       '2014-05-20 00:00:00', '2014-05-21 00:00:00',\n",
              "       '2014-05-22 00:00:00', '2014-05-23 00:00:00',\n",
              "       '2014-05-24 00:00:00', '2014-05-25 00:00:00',\n",
              "       '2014-05-26 00:00:00', '2014-05-27 00:00:00',\n",
              "       '2014-05-28 00:00:00', '2014-05-29 00:00:00',\n",
              "       '2014-05-30 00:00:00', '2014-05-31 00:00:00',\n",
              "       '2014-06-01 00:00:00', '2014-06-02 00:00:00',\n",
              "       '2014-06-03 00:00:00', '2014-06-04 00:00:00',\n",
              "       '2014-06-05 00:00:00', '2014-06-06 00:00:00',\n",
              "       '2014-06-07 00:00:00', '2014-06-08 00:00:00',\n",
              "       '2014-06-09 00:00:00', '2014-06-10 00:00:00',\n",
              "       '2014-06-11 00:00:00', '2014-06-12 00:00:00',\n",
              "       '2014-06-13 00:00:00', '2014-06-14 00:00:00',\n",
              "       '2014-06-15 00:00:00', '2014-06-16 00:00:00',\n",
              "       '2014-06-17 00:00:00', '2014-06-18 00:00:00',\n",
              "       '2014-06-19 00:00:00', '2014-06-20 00:00:00',\n",
              "       '2014-06-21 00:00:00', '2014-06-22 00:00:00',\n",
              "       '2014-06-23 00:00:00', '2014-06-24 00:00:00',\n",
              "       '2014-06-25 00:00:00', '2014-06-26 00:00:00',\n",
              "       '2014-06-27 00:00:00', '2014-06-28 00:00:00',\n",
              "       '2014-06-29 00:00:00', '2014-06-30 00:00:00',\n",
              "       '2014-07-01 00:00:00', '2014-07-02 00:00:00',\n",
              "       '2014-07-03 00:00:00', '2014-07-04 00:00:00',\n",
              "       '2014-07-05 00:00:00', '2014-07-06 00:00:00',\n",
              "       '2014-07-07 00:00:00', '2014-07-08 00:00:00',\n",
              "       '2014-07-09 00:00:00', '2014-07-10 00:00:00'], dtype=object)"
            ]
          },
          "metadata": {},
          "execution_count": 26
        }
      ]
    },
    {
      "cell_type": "markdown",
      "source": [
        "### Resumen\n",
        "- Se observa que el `dataset` contiene 18 columnas y 4600 filas o registros.\n",
        "- Se observa que no existen valores nulos o pérdidos en el dataset\n",
        "- Se observa que solo hay información del país USA.\n",
        "- Se observa que son datos entre Mayo y Julio del 2014. \n",
        "- Las columnas que se visualizaon son:\n",
        "  - date:              object -> Fecha de registro\n",
        "  - price:            float64 -> Precio\n",
        "  - bedrooms:         float64 -> # Cuartos\n",
        "  - bathrooms:        float64 -> # Baños\n",
        "  - sqft_living:        int64 -> Metros2 construídos\n",
        "  - sqft_lot:           int64 -> Metros2 lote\n",
        "  - floors:           float64 -> # Pisos \n",
        "  - waterfront:         int64 -> # Frente al mar\n",
        "  - view:               int64 -> # Vista\n",
        "  - condition:          int64 -> Condición\n",
        "  - sqft_above:         int64 -> Metros2 techo \n",
        "  - sqft_basement:      int64 -> Metros2 sótano \n",
        "  - yr_built:           int64 -> Años construída\n",
        "  - yr_renovated:       int64 -> Años renovada\n",
        "  - street:            object -> Calle\n",
        "  - city:              object -> Ciudad\n",
        "  - statezip:          object -> Código postal\n",
        "  - country:           object -> País"
      ],
      "metadata": {
        "id": "ooN_CAqpBCn8"
      }
    },
    {
      "cell_type": "markdown",
      "source": [
        "### Visualización"
      ],
      "metadata": {
        "id": "TXPsZG829rVn"
      }
    },
    {
      "cell_type": "code",
      "source": [
        "# Importar librerías y paquetes\n",
        "import matplotlib.pyplot as plp\n",
        "import seaborn as sns"
      ],
      "metadata": {
        "id": "H8kxVoc09nFE"
      },
      "execution_count": null,
      "outputs": []
    },
    {
      "cell_type": "code",
      "source": [
        "# Visualización de metros construídos y lote\n",
        "sns.set(style=\"darkgrid\")\n",
        "sns.regplot(x=ds_house['price'], y=ds_house['sqft_lot'])"
      ],
      "metadata": {
        "colab": {
          "base_uri": "https://localhost:8080/",
          "height": 313
        },
        "id": "lzYBHCAV93hJ",
        "outputId": "79382d32-fdf2-4399-c233-91e2f1be65d9"
      },
      "execution_count": null,
      "outputs": [
        {
          "output_type": "execute_result",
          "data": {
            "text/plain": [
              "<matplotlib.axes._subplots.AxesSubplot at 0x7f5e5e425610>"
            ]
          },
          "metadata": {},
          "execution_count": 80
        },
        {
          "output_type": "display_data",
          "data": {
            "image/png": "[encoded data removed]",
            "text/plain": [
              "<Figure size 432x288 with 1 Axes>"
            ]
          },
          "metadata": {}
        }
      ]
    },
    {
      "cell_type": "markdown",
      "source": [
        "### Resumen\n",
        "- Se visualiza la relación entre precio y metros del lote. "
      ],
      "metadata": {
        "id": "EAsqehnbK3lw"
      }
    },
    {
      "cell_type": "code",
      "source": [
        "# Vsualización displot\n",
        "sns.displot(ds_house['sqft_lot'],bins=10,kde=True)"
      ],
      "metadata": {
        "colab": {
          "base_uri": "https://localhost:8080/",
          "height": 382
        },
        "id": "wL0l2V58AR1F",
        "outputId": "8ca8798a-8782-49c3-97d2-0951421471de"
      },
      "execution_count": null,
      "outputs": [
        {
          "output_type": "execute_result",
          "data": {
            "text/plain": [
              "<seaborn.axisgrid.FacetGrid at 0x7f5e8420c7d0>"
            ]
          },
          "metadata": {},
          "execution_count": 65
        },
        {
          "output_type": "display_data",
          "data": {
            "image/png": "[encoded data removed]",
            "text/plain": [
              "<Figure size 360x360 with 1 Axes>"
            ]
          },
          "metadata": {}
        }
      ]
    },
    {
      "cell_type": "markdown",
      "source": [
        "Resumen\n",
        "Se visualiza la relación de metros del lote, entre cantidad y valor."
      ],
      "metadata": {
        "id": "Tr40C5d-LZ96"
      }
    },
    {
      "cell_type": "code",
      "source": [
        "# Visualización histogramas\n",
        "ds_house.hist(figsize=(15,20))\n",
        "plp.show()"
      ],
      "metadata": {
        "colab": {
          "base_uri": "https://localhost:8080/",
          "height": 1000
        },
        "id": "B23zvF0lAhCR",
        "outputId": "76bde456-1642-4d3a-b6c1-2a310b488f51"
      },
      "execution_count": null,
      "outputs": [
        {
          "output_type": "display_data",
          "data": {
            "image/png": "[encoded data removed]",
            "text/plain": [
              "<Figure size 1080x1440 with 16 Axes>"
            ]
          },
          "metadata": {}
        }
      ]
    },
    {
      "cell_type": "markdown",
      "source": [
        "### Resumen:\n",
        "- Se observa que a partir del año 2000, hubo más construcciones.\n",
        "- Existen mas casas de 2 cuartos"
      ],
      "metadata": {
        "id": "1g3_OWv0QJdE"
      }
    },
    {
      "cell_type": "code",
      "source": [
        "# Visualización barras horizontal\n",
        "plp.figure(figsize=(15,20))\n",
        "sns.barplot(data=ds_house,y='price',x='bedrooms',orient=\"v1\")"
      ],
      "metadata": {
        "colab": {
          "base_uri": "https://localhost:8080/",
          "height": 1000
        },
        "id": "2qJg4Ig_BAVl",
        "outputId": "53d9910f-fa23-4954-8f27-d35a1089d763"
      },
      "execution_count": null,
      "outputs": [
        {
          "output_type": "execute_result",
          "data": {
            "text/plain": [
              "<matplotlib.axes._subplots.AxesSubplot at 0x7f5e550312d0>"
            ]
          },
          "metadata": {},
          "execution_count": 88
        },
        {
          "output_type": "display_data",
          "data": {
            "image/png": "[encoded data removed]",
            "text/plain": [
              "<Figure size 1080x1440 with 1 Axes>"
            ]
          },
          "metadata": {}
        }
      ]
    },
    {
      "cell_type": "markdown",
      "source": [
        "### Resumen:\n",
        "- Se observa que los lotes son mas costosos, igual que las casas con 8 cuartos."
      ],
      "metadata": {
        "id": "78u7hz8bQu1v"
      }
    },
    {
      "cell_type": "code",
      "source": [
        "# Visualización barras vertical\n",
        "plp.figure(figsize=(15,20))\n",
        "sns.barplot(data=ds_house,y='floors',x='price',orient=\"h5\")"
      ],
      "metadata": {
        "colab": {
          "base_uri": "https://localhost:8080/",
          "height": 1000
        },
        "id": "YkZxJKD0CEiW",
        "outputId": "5a05d248-aafb-4e1f-85ae-f97ac5a2d1de"
      },
      "execution_count": null,
      "outputs": [
        {
          "output_type": "execute_result",
          "data": {
            "text/plain": [
              "<matplotlib.axes._subplots.AxesSubplot at 0x7f5e55187990>"
            ]
          },
          "metadata": {},
          "execution_count": 89
        },
        {
          "output_type": "display_data",
          "data": {
            "image/png": "[encoded data removed]",
            "text/plain": [
              "<Figure size 1080x1440 with 1 Axes>"
            ]
          },
          "metadata": {}
        }
      ]
    },
    {
      "cell_type": "markdown",
      "source": [
        "### Resumen:\n",
        "- Se observa que las casas con 2.5 o 3.5 pisos son mas costosas.\n",
        "- las casas mas económicas son las de 1 piso."
      ],
      "metadata": {
        "id": "Z9xHE-ZbQ_7V"
      }
    },
    {
      "cell_type": "code",
      "source": [
        "# Correlación de variables\n",
        "corr = ds_house.corr()\n",
        "sns.heatmap(corr,annot=True,square=False, fmt=\".0001g\")"
      ],
      "metadata": {
        "colab": {
          "base_uri": "https://localhost:8080/",
          "height": 361
        },
        "id": "F9648vhmSE8d",
        "outputId": "22f90402-243f-4e90-a9c1-6eae9044dbc6"
      },
      "execution_count": null,
      "outputs": [
        {
          "output_type": "execute_result",
          "data": {
            "text/plain": [
              "<matplotlib.axes._subplots.AxesSubplot at 0x7f5e53894810>"
            ]
          },
          "metadata": {},
          "execution_count": 103
        },
        {
          "output_type": "display_data",
          "data": {
            "image/png": "[encoded data removed]",
            "text/plain": [
              "<Figure size 432x288 with 2 Axes>"
            ]
          },
          "metadata": {}
        }
      ]
    },
    {
      "cell_type": "markdown",
      "source": [
        "### Resumen:\n",
        "- Se observa que las casas con 2.5 o 3.5 pisos son mas costosas.\n",
        "- las casas mas económicas son las de 1 piso."
      ],
      "metadata": {
        "id": "V-lf7EQiSGzS"
      }
    },
    {
      "cell_type": "markdown",
      "source": [
        "## Fase 3: Entrenamiento\n",
        "Entrenamiento de los datos del dataset `ds_house`"
      ],
      "metadata": {
        "id": "CE-i3gh8PflO"
      }
    },
    {
      "cell_type": "markdown",
      "source": [
        "### Hipótesis 1:\n",
        "Eliminar las variables para tomar solo las de tipo numérico, es decir, eliminar las categóricas."
      ],
      "metadata": {
        "id": "kGtFQmShRhOj"
      }
    },
    {
      "cell_type": "code",
      "source": [
        "# Preparar dataset de H1\n",
        "# Borrar columnas categóricas\n",
        "cols_cate = [\"date\",\"street\",\"city\",\"statezip\",\"country\"]\n",
        "ds_h1 = ds_house.drop(cols_cate,axis=1)\n",
        "\n",
        "# Mostrar nuevo dataset\n",
        "ds_h1.head()"
      ],
      "metadata": {
        "colab": {
          "base_uri": "https://localhost:8080/",
          "height": 270
        },
        "id": "NZogF_1JTMxZ",
        "outputId": "fc406cfd-3c54-4065-cb90-261d6e9fece8"
      },
      "execution_count": null,
      "outputs": [
        {
          "output_type": "execute_result",
          "data": {
            "text/html": [
              "\n",
              "  <div id=\"df-0c496c0d-7bfd-4426-b46d-34fb1b4c2373\">\n",
              "    <div class=\"colab-df-container\">\n",
              "      <div>\n",
              "<style scoped>\n",
              "    .dataframe tbody tr th:only-of-type {\n",
              "        vertical-align: middle;\n",
              "    }\n",
              "\n",
              "    .dataframe tbody tr th {\n",
              "        vertical-align: top;\n",
              "    }\n",
              "\n",
              "    .dataframe thead th {\n",
              "        text-align: right;\n",
              "    }\n",
              "</style>\n",
              "<table border=\"1\" class=\"dataframe\">\n",
              "  <thead>\n",
              "    <tr style=\"text-align: right;\">\n",
              "      <th></th>\n",
              "      <th>price</th>\n",
              "      <th>bedrooms</th>\n",
              "      <th>bathrooms</th>\n",
              "      <th>sqft_living</th>\n",
              "      <th>sqft_lot</th>\n",
              "      <th>floors</th>\n",
              "      <th>waterfront</th>\n",
              "      <th>view</th>\n",
              "      <th>condition</th>\n",
              "      <th>sqft_above</th>\n",
              "      <th>sqft_basement</th>\n",
              "      <th>yr_built</th>\n",
              "      <th>yr_renovated</th>\n",
              "    </tr>\n",
              "  </thead>\n",
              "  <tbody>\n",
              "    <tr>\n",
              "      <th>0</th>\n",
              "      <td>313000.0</td>\n",
              "      <td>3.0</td>\n",
              "      <td>1.50</td>\n",
              "      <td>1340</td>\n",
              "      <td>7912</td>\n",
              "      <td>1.5</td>\n",
              "      <td>0</td>\n",
              "      <td>0</td>\n",
              "      <td>3</td>\n",
              "      <td>1340</td>\n",
              "      <td>0</td>\n",
              "      <td>1955</td>\n",
              "      <td>2005</td>\n",
              "    </tr>\n",
              "    <tr>\n",
              "      <th>1</th>\n",
              "      <td>2384000.0</td>\n",
              "      <td>5.0</td>\n",
              "      <td>2.50</td>\n",
              "      <td>3650</td>\n",
              "      <td>9050</td>\n",
              "      <td>2.0</td>\n",
              "      <td>0</td>\n",
              "      <td>4</td>\n",
              "      <td>5</td>\n",
              "      <td>3370</td>\n",
              "      <td>280</td>\n",
              "      <td>1921</td>\n",
              "      <td>0</td>\n",
              "    </tr>\n",
              "    <tr>\n",
              "      <th>2</th>\n",
              "      <td>342000.0</td>\n",
              "      <td>3.0</td>\n",
              "      <td>2.00</td>\n",
              "      <td>1930</td>\n",
              "      <td>11947</td>\n",
              "      <td>1.0</td>\n",
              "      <td>0</td>\n",
              "      <td>0</td>\n",
              "      <td>4</td>\n",
              "      <td>1930</td>\n",
              "      <td>0</td>\n",
              "      <td>1966</td>\n",
              "      <td>0</td>\n",
              "    </tr>\n",
              "    <tr>\n",
              "      <th>3</th>\n",
              "      <td>420000.0</td>\n",
              "      <td>3.0</td>\n",
              "      <td>2.25</td>\n",
              "      <td>2000</td>\n",
              "      <td>8030</td>\n",
              "      <td>1.0</td>\n",
              "      <td>0</td>\n",
              "      <td>0</td>\n",
              "      <td>4</td>\n",
              "      <td>1000</td>\n",
              "      <td>1000</td>\n",
              "      <td>1963</td>\n",
              "      <td>0</td>\n",
              "    </tr>\n",
              "    <tr>\n",
              "      <th>4</th>\n",
              "      <td>550000.0</td>\n",
              "      <td>4.0</td>\n",
              "      <td>2.50</td>\n",
              "      <td>1940</td>\n",
              "      <td>10500</td>\n",
              "      <td>1.0</td>\n",
              "      <td>0</td>\n",
              "      <td>0</td>\n",
              "      <td>4</td>\n",
              "      <td>1140</td>\n",
              "      <td>800</td>\n",
              "      <td>1976</td>\n",
              "      <td>1992</td>\n",
              "    </tr>\n",
              "  </tbody>\n",
              "</table>\n",
              "</div>\n",
              "      <button class=\"colab-df-convert\" onclick=\"convertToInteractive('df-0c496c0d-7bfd-4426-b46d-34fb1b4c2373')\"\n",
              "              title=\"Convert this dataframe to an interactive table.\"\n",
              "              style=\"display:none;\">\n",
              "        \n",
              "  <svg xmlns=\"http://www.w3.org/2000/svg\" height=\"24px\"viewBox=\"0 0 24 24\"\n",
              "       width=\"24px\">\n",
              "    <path d=\"M0 0h24v24H0V0z\" fill=\"none\"/>\n",
              "    <path d=\"M18.56 5.44l.94 2.06.94-2.06 2.06-.94-2.06-.94-.94-2.06-.94 2.06-2.06.94zm-11 1L8.5 8.5l.94-2.06 2.06-.94-2.06-.94L8.5 2.5l-.94 2.06-2.06.94zm10 10l.94 2.06.94-2.06 2.06-.94-2.06-.94-.94-2.06-.94 2.06-2.06.94z\"/><path d=\"M17.41 7.96l-1.37-1.37c-.4-.4-.92-.59-1.43-.59-.52 0-1.04.2-1.43.59L10.3 9.45l-7.72 7.72c-.78.78-.78 2.05 0 2.83L4 21.41c.39.39.9.59 1.41.59.51 0 1.02-.2 1.41-.59l7.78-7.78 2.81-2.81c.8-.78.8-2.07 0-2.86zM5.41 20L4 18.59l7.72-7.72 1.47 1.35L5.41 20z\"/>\n",
              "  </svg>\n",
              "      </button>\n",
              "      \n",
              "  <style>\n",
              "    .colab-df-container {\n",
              "      display:flex;\n",
              "      flex-wrap:wrap;\n",
              "      gap: 12px;\n",
              "    }\n",
              "\n",
              "    .colab-df-convert {\n",
              "      background-color: #E8F0FE;\n",
              "      border: none;\n",
              "      border-radius: 50%;\n",
              "      cursor: pointer;\n",
              "      display: none;\n",
              "      fill: #1967D2;\n",
              "      height: 32px;\n",
              "      padding: 0 0 0 0;\n",
              "      width: 32px;\n",
              "    }\n",
              "\n",
              "    .colab-df-convert:hover {\n",
              "      background-color: #E2EBFA;\n",
              "      box-shadow: 0px 1px 2px rgba(60, 64, 67, 0.3), 0px 1px 3px 1px rgba(60, 64, 67, 0.15);\n",
              "      fill: #174EA6;\n",
              "    }\n",
              "\n",
              "    [theme=dark] .colab-df-convert {\n",
              "      background-color: #3B4455;\n",
              "      fill: #D2E3FC;\n",
              "    }\n",
              "\n",
              "    [theme=dark] .colab-df-convert:hover {\n",
              "      background-color: #434B5C;\n",
              "      box-shadow: 0px 1px 3px 1px rgba(0, 0, 0, 0.15);\n",
              "      filter: drop-shadow(0px 1px 2px rgba(0, 0, 0, 0.3));\n",
              "      fill: #FFFFFF;\n",
              "    }\n",
              "  </style>\n",
              "\n",
              "      <script>\n",
              "        const buttonEl =\n",
              "          document.querySelector('#df-0c496c0d-7bfd-4426-b46d-34fb1b4c2373 button.colab-df-convert');\n",
              "        buttonEl.style.display =\n",
              "          google.colab.kernel.accessAllowed ? 'block' : 'none';\n",
              "\n",
              "        async function convertToInteractive(key) {\n",
              "          const element = document.querySelector('#df-0c496c0d-7bfd-4426-b46d-34fb1b4c2373');\n",
              "          const dataTable =\n",
              "            await google.colab.kernel.invokeFunction('convertToInteractive',\n",
              "                                                     [key], {});\n",
              "          if (!dataTable) return;\n",
              "\n",
              "          const docLinkHtml = 'Like what you see? Visit the ' +\n",
              "            '<a target=\"_blank\" href=https://colab.research.google.com/notebooks/data_table.ipynb>data table notebook</a>'\n",
              "            + ' to learn more about interactive tables.';\n",
              "          element.innerHTML = '';\n",
              "          dataTable['output_type'] = 'display_data';\n",
              "          await google.colab.output.renderOutput(dataTable, element);\n",
              "          const docLink = document.createElement('div');\n",
              "          docLink.innerHTML = docLinkHtml;\n",
              "          element.appendChild(docLink);\n",
              "        }\n",
              "      </script>\n",
              "    </div>\n",
              "  </div>\n",
              "  "
            ],
            "text/plain": [
              "       price  bedrooms  bathrooms  ...  sqft_basement  yr_built  yr_renovated\n",
              "0   313000.0       3.0       1.50  ...              0      1955          2005\n",
              "1  2384000.0       5.0       2.50  ...            280      1921             0\n",
              "2   342000.0       3.0       2.00  ...              0      1966             0\n",
              "3   420000.0       3.0       2.25  ...           1000      1963             0\n",
              "4   550000.0       4.0       2.50  ...            800      1976          1992\n",
              "\n",
              "[5 rows x 13 columns]"
            ]
          },
          "metadata": {},
          "execution_count": 104
        }
      ]
    },
    {
      "cell_type": "code",
      "source": [
        "# Consultar datos estadísticos generales\n",
        "ds_h1.describe().transpose()"
      ],
      "metadata": {
        "colab": {
          "base_uri": "https://localhost:8080/",
          "height": 501
        },
        "id": "dSUPEtxtUon8",
        "outputId": "daefc0c0-c868-45f8-c4b2-9baef9529740"
      },
      "execution_count": null,
      "outputs": [
        {
          "output_type": "execute_result",
          "data": {
            "text/html": [
              "\n",
              "  <div id=\"df-d8e3c658-5927-4d90-924f-64cddbd9c9e0\">\n",
              "    <div class=\"colab-df-container\">\n",
              "      <div>\n",
              "<style scoped>\n",
              "    .dataframe tbody tr th:only-of-type {\n",
              "        vertical-align: middle;\n",
              "    }\n",
              "\n",
              "    .dataframe tbody tr th {\n",
              "        vertical-align: top;\n",
              "    }\n",
              "\n",
              "    .dataframe thead th {\n",
              "        text-align: right;\n",
              "    }\n",
              "</style>\n",
              "<table border=\"1\" class=\"dataframe\">\n",
              "  <thead>\n",
              "    <tr style=\"text-align: right;\">\n",
              "      <th></th>\n",
              "      <th>count</th>\n",
              "      <th>mean</th>\n",
              "      <th>std</th>\n",
              "      <th>min</th>\n",
              "      <th>25%</th>\n",
              "      <th>50%</th>\n",
              "      <th>75%</th>\n",
              "      <th>max</th>\n",
              "    </tr>\n",
              "  </thead>\n",
              "  <tbody>\n",
              "    <tr>\n",
              "      <th>price</th>\n",
              "      <td>4600.0</td>\n",
              "      <td>551962.988473</td>\n",
              "      <td>563834.702547</td>\n",
              "      <td>0.0</td>\n",
              "      <td>322875.00</td>\n",
              "      <td>460943.461539</td>\n",
              "      <td>654962.50</td>\n",
              "      <td>26590000.0</td>\n",
              "    </tr>\n",
              "    <tr>\n",
              "      <th>bedrooms</th>\n",
              "      <td>4600.0</td>\n",
              "      <td>3.400870</td>\n",
              "      <td>0.908848</td>\n",
              "      <td>0.0</td>\n",
              "      <td>3.00</td>\n",
              "      <td>3.000000</td>\n",
              "      <td>4.00</td>\n",
              "      <td>9.0</td>\n",
              "    </tr>\n",
              "    <tr>\n",
              "      <th>bathrooms</th>\n",
              "      <td>4600.0</td>\n",
              "      <td>2.160815</td>\n",
              "      <td>0.783781</td>\n",
              "      <td>0.0</td>\n",
              "      <td>1.75</td>\n",
              "      <td>2.250000</td>\n",
              "      <td>2.50</td>\n",
              "      <td>8.0</td>\n",
              "    </tr>\n",
              "    <tr>\n",
              "      <th>sqft_living</th>\n",
              "      <td>4600.0</td>\n",
              "      <td>2139.346957</td>\n",
              "      <td>963.206916</td>\n",
              "      <td>370.0</td>\n",
              "      <td>1460.00</td>\n",
              "      <td>1980.000000</td>\n",
              "      <td>2620.00</td>\n",
              "      <td>13540.0</td>\n",
              "    </tr>\n",
              "    <tr>\n",
              "      <th>sqft_lot</th>\n",
              "      <td>4600.0</td>\n",
              "      <td>14852.516087</td>\n",
              "      <td>35884.436145</td>\n",
              "      <td>638.0</td>\n",
              "      <td>5000.75</td>\n",
              "      <td>7683.000000</td>\n",
              "      <td>11001.25</td>\n",
              "      <td>1074218.0</td>\n",
              "    </tr>\n",
              "    <tr>\n",
              "      <th>floors</th>\n",
              "      <td>4600.0</td>\n",
              "      <td>1.512065</td>\n",
              "      <td>0.538288</td>\n",
              "      <td>1.0</td>\n",
              "      <td>1.00</td>\n",
              "      <td>1.500000</td>\n",
              "      <td>2.00</td>\n",
              "      <td>3.5</td>\n",
              "    </tr>\n",
              "    <tr>\n",
              "      <th>waterfront</th>\n",
              "      <td>4600.0</td>\n",
              "      <td>0.007174</td>\n",
              "      <td>0.084404</td>\n",
              "      <td>0.0</td>\n",
              "      <td>0.00</td>\n",
              "      <td>0.000000</td>\n",
              "      <td>0.00</td>\n",
              "      <td>1.0</td>\n",
              "    </tr>\n",
              "    <tr>\n",
              "      <th>view</th>\n",
              "      <td>4600.0</td>\n",
              "      <td>0.240652</td>\n",
              "      <td>0.778405</td>\n",
              "      <td>0.0</td>\n",
              "      <td>0.00</td>\n",
              "      <td>0.000000</td>\n",
              "      <td>0.00</td>\n",
              "      <td>4.0</td>\n",
              "    </tr>\n",
              "    <tr>\n",
              "      <th>condition</th>\n",
              "      <td>4600.0</td>\n",
              "      <td>3.451739</td>\n",
              "      <td>0.677230</td>\n",
              "      <td>1.0</td>\n",
              "      <td>3.00</td>\n",
              "      <td>3.000000</td>\n",
              "      <td>4.00</td>\n",
              "      <td>5.0</td>\n",
              "    </tr>\n",
              "    <tr>\n",
              "      <th>sqft_above</th>\n",
              "      <td>4600.0</td>\n",
              "      <td>1827.265435</td>\n",
              "      <td>862.168977</td>\n",
              "      <td>370.0</td>\n",
              "      <td>1190.00</td>\n",
              "      <td>1590.000000</td>\n",
              "      <td>2300.00</td>\n",
              "      <td>9410.0</td>\n",
              "    </tr>\n",
              "    <tr>\n",
              "      <th>sqft_basement</th>\n",
              "      <td>4600.0</td>\n",
              "      <td>312.081522</td>\n",
              "      <td>464.137228</td>\n",
              "      <td>0.0</td>\n",
              "      <td>0.00</td>\n",
              "      <td>0.000000</td>\n",
              "      <td>610.00</td>\n",
              "      <td>4820.0</td>\n",
              "    </tr>\n",
              "    <tr>\n",
              "      <th>yr_built</th>\n",
              "      <td>4600.0</td>\n",
              "      <td>1970.786304</td>\n",
              "      <td>29.731848</td>\n",
              "      <td>1900.0</td>\n",
              "      <td>1951.00</td>\n",
              "      <td>1976.000000</td>\n",
              "      <td>1997.00</td>\n",
              "      <td>2014.0</td>\n",
              "    </tr>\n",
              "    <tr>\n",
              "      <th>yr_renovated</th>\n",
              "      <td>4600.0</td>\n",
              "      <td>808.608261</td>\n",
              "      <td>979.414536</td>\n",
              "      <td>0.0</td>\n",
              "      <td>0.00</td>\n",
              "      <td>0.000000</td>\n",
              "      <td>1999.00</td>\n",
              "      <td>2014.0</td>\n",
              "    </tr>\n",
              "  </tbody>\n",
              "</table>\n",
              "</div>\n",
              "      <button class=\"colab-df-convert\" onclick=\"convertToInteractive('df-d8e3c658-5927-4d90-924f-64cddbd9c9e0')\"\n",
              "              title=\"Convert this dataframe to an interactive table.\"\n",
              "              style=\"display:none;\">\n",
              "        \n",
              "  <svg xmlns=\"http://www.w3.org/2000/svg\" height=\"24px\"viewBox=\"0 0 24 24\"\n",
              "       width=\"24px\">\n",
              "    <path d=\"M0 0h24v24H0V0z\" fill=\"none\"/>\n",
              "    <path d=\"M18.56 5.44l.94 2.06.94-2.06 2.06-.94-2.06-.94-.94-2.06-.94 2.06-2.06.94zm-11 1L8.5 8.5l.94-2.06 2.06-.94-2.06-.94L8.5 2.5l-.94 2.06-2.06.94zm10 10l.94 2.06.94-2.06 2.06-.94-2.06-.94-.94-2.06-.94 2.06-2.06.94z\"/><path d=\"M17.41 7.96l-1.37-1.37c-.4-.4-.92-.59-1.43-.59-.52 0-1.04.2-1.43.59L10.3 9.45l-7.72 7.72c-.78.78-.78 2.05 0 2.83L4 21.41c.39.39.9.59 1.41.59.51 0 1.02-.2 1.41-.59l7.78-7.78 2.81-2.81c.8-.78.8-2.07 0-2.86zM5.41 20L4 18.59l7.72-7.72 1.47 1.35L5.41 20z\"/>\n",
              "  </svg>\n",
              "      </button>\n",
              "      \n",
              "  <style>\n",
              "    .colab-df-container {\n",
              "      display:flex;\n",
              "      flex-wrap:wrap;\n",
              "      gap: 12px;\n",
              "    }\n",
              "\n",
              "    .colab-df-convert {\n",
              "      background-color: #E8F0FE;\n",
              "      border: none;\n",
              "      border-radius: 50%;\n",
              "      cursor: pointer;\n",
              "      display: none;\n",
              "      fill: #1967D2;\n",
              "      height: 32px;\n",
              "      padding: 0 0 0 0;\n",
              "      width: 32px;\n",
              "    }\n",
              "\n",
              "    .colab-df-convert:hover {\n",
              "      background-color: #E2EBFA;\n",
              "      box-shadow: 0px 1px 2px rgba(60, 64, 67, 0.3), 0px 1px 3px 1px rgba(60, 64, 67, 0.15);\n",
              "      fill: #174EA6;\n",
              "    }\n",
              "\n",
              "    [theme=dark] .colab-df-convert {\n",
              "      background-color: #3B4455;\n",
              "      fill: #D2E3FC;\n",
              "    }\n",
              "\n",
              "    [theme=dark] .colab-df-convert:hover {\n",
              "      background-color: #434B5C;\n",
              "      box-shadow: 0px 1px 3px 1px rgba(0, 0, 0, 0.15);\n",
              "      filter: drop-shadow(0px 1px 2px rgba(0, 0, 0, 0.3));\n",
              "      fill: #FFFFFF;\n",
              "    }\n",
              "  </style>\n",
              "\n",
              "      <script>\n",
              "        const buttonEl =\n",
              "          document.querySelector('#df-d8e3c658-5927-4d90-924f-64cddbd9c9e0 button.colab-df-convert');\n",
              "        buttonEl.style.display =\n",
              "          google.colab.kernel.accessAllowed ? 'block' : 'none';\n",
              "\n",
              "        async function convertToInteractive(key) {\n",
              "          const element = document.querySelector('#df-d8e3c658-5927-4d90-924f-64cddbd9c9e0');\n",
              "          const dataTable =\n",
              "            await google.colab.kernel.invokeFunction('convertToInteractive',\n",
              "                                                     [key], {});\n",
              "          if (!dataTable) return;\n",
              "\n",
              "          const docLinkHtml = 'Like what you see? Visit the ' +\n",
              "            '<a target=\"_blank\" href=https://colab.research.google.com/notebooks/data_table.ipynb>data table notebook</a>'\n",
              "            + ' to learn more about interactive tables.';\n",
              "          element.innerHTML = '';\n",
              "          dataTable['output_type'] = 'display_data';\n",
              "          await google.colab.output.renderOutput(dataTable, element);\n",
              "          const docLink = document.createElement('div');\n",
              "          docLink.innerHTML = docLinkHtml;\n",
              "          element.appendChild(docLink);\n",
              "        }\n",
              "      </script>\n",
              "    </div>\n",
              "  </div>\n",
              "  "
            ],
            "text/plain": [
              "                count           mean  ...        75%         max\n",
              "price          4600.0  551962.988473  ...  654962.50  26590000.0\n",
              "bedrooms       4600.0       3.400870  ...       4.00         9.0\n",
              "bathrooms      4600.0       2.160815  ...       2.50         8.0\n",
              "sqft_living    4600.0    2139.346957  ...    2620.00     13540.0\n",
              "sqft_lot       4600.0   14852.516087  ...   11001.25   1074218.0\n",
              "floors         4600.0       1.512065  ...       2.00         3.5\n",
              "waterfront     4600.0       0.007174  ...       0.00         1.0\n",
              "view           4600.0       0.240652  ...       0.00         4.0\n",
              "condition      4600.0       3.451739  ...       4.00         5.0\n",
              "sqft_above     4600.0    1827.265435  ...    2300.00      9410.0\n",
              "sqft_basement  4600.0     312.081522  ...     610.00      4820.0\n",
              "yr_built       4600.0    1970.786304  ...    1997.00      2014.0\n",
              "yr_renovated   4600.0     808.608261  ...    1999.00      2014.0\n",
              "\n",
              "[13 rows x 8 columns]"
            ]
          },
          "metadata": {},
          "execution_count": 109
        }
      ]
    },
    {
      "cell_type": "code",
      "source": [
        "# Visualizar los datos de cada columna, baños\n",
        "pd.unique(ds_house['bathrooms'])"
      ],
      "metadata": {
        "colab": {
          "base_uri": "https://localhost:8080/"
        },
        "id": "CUyejFyCU_vl",
        "outputId": "7cc33b44-8f98-4530-9c68-89dcfb3652a0"
      },
      "execution_count": null,
      "outputs": [
        {
          "output_type": "execute_result",
          "data": {
            "text/plain": [
              "array([1.5 , 2.5 , 2.  , 2.25, 1.  , 1.75, 2.75, 3.  , 3.25, 3.5 , 8.  ,\n",
              "       4.25, 4.  , 3.75, 5.  , 4.5 , 5.75, 1.25, 6.5 , 4.75, 0.75, 5.25,\n",
              "       5.5 , 6.25, 0.  , 6.75])"
            ]
          },
          "metadata": {},
          "execution_count": 113
        }
      ]
    },
    {
      "cell_type": "code",
      "source": [
        "# Variables independientes\n",
        "x_h1 = ds_h1.drop('price',axis=1)\n",
        "# Variables dependientes\n",
        "y_h1 = ds_h1['price']"
      ],
      "metadata": {
        "id": "Clsdbg-pTwtB"
      },
      "execution_count": null,
      "outputs": []
    },
    {
      "cell_type": "code",
      "source": [
        "# Importar librería para entrenar\n",
        "from sklearn.model_selection import train_test_split\n",
        "x_h1_train,x_h1_test,y_h1_train,y_h1_test = train_test_split(x_h1,y_h1,test_size=0.20,random_state=43) "
      ],
      "metadata": {
        "id": "e4tMDMxQT4Ij"
      },
      "execution_count": null,
      "outputs": []
    },
    {
      "cell_type": "code",
      "source": [
        "# Regresion Líneal\n",
        "from sklearn.linear_model import LinearRegression\n",
        "regresion_lineal=LinearRegression()\n",
        "regresion_lineal.fit(x_h1_train,y_h1_train)"
      ],
      "metadata": {
        "colab": {
          "base_uri": "https://localhost:8080/"
        },
        "id": "9uPCF6VuT5yB",
        "outputId": "1338f0bf-83c5-4d4c-a997-f6da1ce990c2"
      },
      "execution_count": null,
      "outputs": [
        {
          "output_type": "execute_result",
          "data": {
            "text/plain": [
              "LinearRegression()"
            ]
          },
          "metadata": {},
          "execution_count": 107
        }
      ]
    },
    {
      "cell_type": "code",
      "source": [
        "from numpy.core.fromnumeric import mean\n",
        "# Importar el cálculo de error cuadrático\n",
        "from sklearn.metrics import mean_squared_error\n",
        "\n",
        "# Predecir valores y datos usados en entrenamiento\n",
        "pred_train = regresion_lineal.predict(x_h1_train)\n",
        "\n",
        "# Calcular error cuadrático medio\n",
        "mse_h1_train = mean_squared_error(y_true=y_h1_train,y_pred=pred_train)\n",
        "print(\"Error Cuadrático Medio=\"+str(mse_h1_train))\n",
        "\n",
        "# Predecir valores y datos\n",
        "pred_test = regresion_lineal.predict(x_h1_test)\n",
        "\n",
        "# Calcular error cuadrático medio\n",
        "mse_h1_test = mean_squared_error(y_true=y_h1_test,y_pred=pred_test)\n",
        "print(\"Error Cuadrático Medio=\"+str(mse_h1_test))"
      ],
      "metadata": {
        "colab": {
          "base_uri": "https://localhost:8080/"
        },
        "id": "R_vX-AeMT9lV",
        "outputId": "33dbaf6d-bdda-44c6-d925-1c9a52738eae"
      },
      "execution_count": null,
      "outputs": [
        {
          "output_type": "stream",
          "name": "stdout",
          "text": [
            "Error Cuadrático Medio=292440342188.2669\n",
            "Error Cuadrático Medio=74834240426.81778\n"
          ]
        }
      ]
    },
    {
      "cell_type": "markdown",
      "source": [
        "#### Resumen:\n",
        "- Se observa que el error cuadrático es muy alto, después de entrenar el modelo sin las variables categóricas."
      ],
      "metadata": {
        "id": "VPAJGOIIVPkK"
      }
    },
    {
      "cell_type": "markdown",
      "source": [
        "### Hipótesis 2:\n",
        "Transformar las variables `float` a `int`, eliminar los puntos medios."
      ],
      "metadata": {
        "id": "Sii2rbJiVd7M"
      }
    },
    {
      "cell_type": "code",
      "source": [
        "# Preparar dataset de H2\n",
        "ds_h1.dtypes"
      ],
      "metadata": {
        "colab": {
          "base_uri": "https://localhost:8080/"
        },
        "id": "N74RtY83WZKV",
        "outputId": "f6210c97-6fb6-4a94-9f65-107c246466ca"
      },
      "execution_count": null,
      "outputs": [
        {
          "output_type": "execute_result",
          "data": {
            "text/plain": [
              "price            float64\n",
              "bedrooms         float64\n",
              "bathrooms        float64\n",
              "sqft_living        int64\n",
              "sqft_lot           int64\n",
              "floors           float64\n",
              "waterfront         int64\n",
              "view               int64\n",
              "condition          int64\n",
              "sqft_above         int64\n",
              "sqft_basement      int64\n",
              "yr_built           int64\n",
              "yr_renovated       int64\n",
              "dtype: object"
            ]
          },
          "metadata": {},
          "execution_count": 128
        }
      ]
    },
    {
      "cell_type": "code",
      "source": [
        "# Transformar columnas float = [\"price\",\"bedrooms\",\"bathrooms\",\"floors\"]\n",
        "ds_h2 = ds_h1\n",
        "ds_h2 = ds_h2.astype(int)\n",
        "\n",
        "# Mostrar nuevo dataset\n",
        "ds_h2.dtypes"
      ],
      "metadata": {
        "colab": {
          "base_uri": "https://localhost:8080/"
        },
        "id": "s1IpnWSyWft2",
        "outputId": "ab2a2903-d29f-4b4c-aa9b-5578ac79d983"
      },
      "execution_count": null,
      "outputs": [
        {
          "output_type": "execute_result",
          "data": {
            "text/plain": [
              "price            int64\n",
              "bedrooms         int64\n",
              "bathrooms        int64\n",
              "sqft_living      int64\n",
              "sqft_lot         int64\n",
              "floors           int64\n",
              "waterfront       int64\n",
              "view             int64\n",
              "condition        int64\n",
              "sqft_above       int64\n",
              "sqft_basement    int64\n",
              "yr_built         int64\n",
              "yr_renovated     int64\n",
              "dtype: object"
            ]
          },
          "metadata": {},
          "execution_count": 130
        }
      ]
    },
    {
      "cell_type": "code",
      "source": [
        "# Describe los datos de forma estadística\n",
        "ds_h2.describe().transpose()"
      ],
      "metadata": {
        "colab": {
          "base_uri": "https://localhost:8080/",
          "height": 457
        },
        "id": "xNXuRGd6ZGzo",
        "outputId": "bc356c36-8343-4e8b-e0b4-a28ca184121a"
      },
      "execution_count": null,
      "outputs": [
        {
          "output_type": "execute_result",
          "data": {
            "text/html": [
              "\n",
              "  <div id=\"df-45d52a19-ab06-4c28-8e2c-5304e614d3db\">\n",
              "    <div class=\"colab-df-container\">\n",
              "      <div>\n",
              "<style scoped>\n",
              "    .dataframe tbody tr th:only-of-type {\n",
              "        vertical-align: middle;\n",
              "    }\n",
              "\n",
              "    .dataframe tbody tr th {\n",
              "        vertical-align: top;\n",
              "    }\n",
              "\n",
              "    .dataframe thead th {\n",
              "        text-align: right;\n",
              "    }\n",
              "</style>\n",
              "<table border=\"1\" class=\"dataframe\">\n",
              "  <thead>\n",
              "    <tr style=\"text-align: right;\">\n",
              "      <th></th>\n",
              "      <th>count</th>\n",
              "      <th>mean</th>\n",
              "      <th>std</th>\n",
              "      <th>min</th>\n",
              "      <th>25%</th>\n",
              "      <th>50%</th>\n",
              "      <th>75%</th>\n",
              "      <th>max</th>\n",
              "    </tr>\n",
              "  </thead>\n",
              "  <tbody>\n",
              "    <tr>\n",
              "      <th>price</th>\n",
              "      <td>4600.0</td>\n",
              "      <td>551962.975435</td>\n",
              "      <td>563834.706028</td>\n",
              "      <td>0.0</td>\n",
              "      <td>322875.00</td>\n",
              "      <td>460943.0</td>\n",
              "      <td>654962.50</td>\n",
              "      <td>26590000.0</td>\n",
              "    </tr>\n",
              "    <tr>\n",
              "      <th>bedrooms</th>\n",
              "      <td>4600.0</td>\n",
              "      <td>3.400870</td>\n",
              "      <td>0.908848</td>\n",
              "      <td>0.0</td>\n",
              "      <td>3.00</td>\n",
              "      <td>3.0</td>\n",
              "      <td>4.00</td>\n",
              "      <td>9.0</td>\n",
              "    </tr>\n",
              "    <tr>\n",
              "      <th>bathrooms</th>\n",
              "      <td>4600.0</td>\n",
              "      <td>1.788913</td>\n",
              "      <td>0.752185</td>\n",
              "      <td>0.0</td>\n",
              "      <td>1.00</td>\n",
              "      <td>2.0</td>\n",
              "      <td>2.00</td>\n",
              "      <td>8.0</td>\n",
              "    </tr>\n",
              "    <tr>\n",
              "      <th>sqft_living</th>\n",
              "      <td>4600.0</td>\n",
              "      <td>2139.346957</td>\n",
              "      <td>963.206916</td>\n",
              "      <td>370.0</td>\n",
              "      <td>1460.00</td>\n",
              "      <td>1980.0</td>\n",
              "      <td>2620.00</td>\n",
              "      <td>13540.0</td>\n",
              "    </tr>\n",
              "    <tr>\n",
              "      <th>sqft_lot</th>\n",
              "      <td>4600.0</td>\n",
              "      <td>14852.516087</td>\n",
              "      <td>35884.436145</td>\n",
              "      <td>638.0</td>\n",
              "      <td>5000.75</td>\n",
              "      <td>7683.0</td>\n",
              "      <td>11001.25</td>\n",
              "      <td>1074218.0</td>\n",
              "    </tr>\n",
              "    <tr>\n",
              "      <th>floors</th>\n",
              "      <td>4600.0</td>\n",
              "      <td>1.459130</td>\n",
              "      <td>0.552194</td>\n",
              "      <td>1.0</td>\n",
              "      <td>1.00</td>\n",
              "      <td>1.0</td>\n",
              "      <td>2.00</td>\n",
              "      <td>3.0</td>\n",
              "    </tr>\n",
              "    <tr>\n",
              "      <th>waterfront</th>\n",
              "      <td>4600.0</td>\n",
              "      <td>0.007174</td>\n",
              "      <td>0.084404</td>\n",
              "      <td>0.0</td>\n",
              "      <td>0.00</td>\n",
              "      <td>0.0</td>\n",
              "      <td>0.00</td>\n",
              "      <td>1.0</td>\n",
              "    </tr>\n",
              "    <tr>\n",
              "      <th>view</th>\n",
              "      <td>4600.0</td>\n",
              "      <td>0.240652</td>\n",
              "      <td>0.778405</td>\n",
              "      <td>0.0</td>\n",
              "      <td>0.00</td>\n",
              "      <td>0.0</td>\n",
              "      <td>0.00</td>\n",
              "      <td>4.0</td>\n",
              "    </tr>\n",
              "    <tr>\n",
              "      <th>condition</th>\n",
              "      <td>4600.0</td>\n",
              "      <td>3.451739</td>\n",
              "      <td>0.677230</td>\n",
              "      <td>1.0</td>\n",
              "      <td>3.00</td>\n",
              "      <td>3.0</td>\n",
              "      <td>4.00</td>\n",
              "      <td>5.0</td>\n",
              "    </tr>\n",
              "    <tr>\n",
              "      <th>sqft_above</th>\n",
              "      <td>4600.0</td>\n",
              "      <td>1827.265435</td>\n",
              "      <td>862.168977</td>\n",
              "      <td>370.0</td>\n",
              "      <td>1190.00</td>\n",
              "      <td>1590.0</td>\n",
              "      <td>2300.00</td>\n",
              "      <td>9410.0</td>\n",
              "    </tr>\n",
              "    <tr>\n",
              "      <th>sqft_basement</th>\n",
              "      <td>4600.0</td>\n",
              "      <td>312.081522</td>\n",
              "      <td>464.137228</td>\n",
              "      <td>0.0</td>\n",
              "      <td>0.00</td>\n",
              "      <td>0.0</td>\n",
              "      <td>610.00</td>\n",
              "      <td>4820.0</td>\n",
              "    </tr>\n",
              "    <tr>\n",
              "      <th>yr_built</th>\n",
              "      <td>4600.0</td>\n",
              "      <td>1970.786304</td>\n",
              "      <td>29.731848</td>\n",
              "      <td>1900.0</td>\n",
              "      <td>1951.00</td>\n",
              "      <td>1976.0</td>\n",
              "      <td>1997.00</td>\n",
              "      <td>2014.0</td>\n",
              "    </tr>\n",
              "    <tr>\n",
              "      <th>yr_renovated</th>\n",
              "      <td>4600.0</td>\n",
              "      <td>808.608261</td>\n",
              "      <td>979.414536</td>\n",
              "      <td>0.0</td>\n",
              "      <td>0.00</td>\n",
              "      <td>0.0</td>\n",
              "      <td>1999.00</td>\n",
              "      <td>2014.0</td>\n",
              "    </tr>\n",
              "  </tbody>\n",
              "</table>\n",
              "</div>\n",
              "      <button class=\"colab-df-convert\" onclick=\"convertToInteractive('df-45d52a19-ab06-4c28-8e2c-5304e614d3db')\"\n",
              "              title=\"Convert this dataframe to an interactive table.\"\n",
              "              style=\"display:none;\">\n",
              "        \n",
              "  <svg xmlns=\"http://www.w3.org/2000/svg\" height=\"24px\"viewBox=\"0 0 24 24\"\n",
              "       width=\"24px\">\n",
              "    <path d=\"M0 0h24v24H0V0z\" fill=\"none\"/>\n",
              "    <path d=\"M18.56 5.44l.94 2.06.94-2.06 2.06-.94-2.06-.94-.94-2.06-.94 2.06-2.06.94zm-11 1L8.5 8.5l.94-2.06 2.06-.94-2.06-.94L8.5 2.5l-.94 2.06-2.06.94zm10 10l.94 2.06.94-2.06 2.06-.94-2.06-.94-.94-2.06-.94 2.06-2.06.94z\"/><path d=\"M17.41 7.96l-1.37-1.37c-.4-.4-.92-.59-1.43-.59-.52 0-1.04.2-1.43.59L10.3 9.45l-7.72 7.72c-.78.78-.78 2.05 0 2.83L4 21.41c.39.39.9.59 1.41.59.51 0 1.02-.2 1.41-.59l7.78-7.78 2.81-2.81c.8-.78.8-2.07 0-2.86zM5.41 20L4 18.59l7.72-7.72 1.47 1.35L5.41 20z\"/>\n",
              "  </svg>\n",
              "      </button>\n",
              "      \n",
              "  <style>\n",
              "    .colab-df-container {\n",
              "      display:flex;\n",
              "      flex-wrap:wrap;\n",
              "      gap: 12px;\n",
              "    }\n",
              "\n",
              "    .colab-df-convert {\n",
              "      background-color: #E8F0FE;\n",
              "      border: none;\n",
              "      border-radius: 50%;\n",
              "      cursor: pointer;\n",
              "      display: none;\n",
              "      fill: #1967D2;\n",
              "      height: 32px;\n",
              "      padding: 0 0 0 0;\n",
              "      width: 32px;\n",
              "    }\n",
              "\n",
              "    .colab-df-convert:hover {\n",
              "      background-color: #E2EBFA;\n",
              "      box-shadow: 0px 1px 2px rgba(60, 64, 67, 0.3), 0px 1px 3px 1px rgba(60, 64, 67, 0.15);\n",
              "      fill: #174EA6;\n",
              "    }\n",
              "\n",
              "    [theme=dark] .colab-df-convert {\n",
              "      background-color: #3B4455;\n",
              "      fill: #D2E3FC;\n",
              "    }\n",
              "\n",
              "    [theme=dark] .colab-df-convert:hover {\n",
              "      background-color: #434B5C;\n",
              "      box-shadow: 0px 1px 3px 1px rgba(0, 0, 0, 0.15);\n",
              "      filter: drop-shadow(0px 1px 2px rgba(0, 0, 0, 0.3));\n",
              "      fill: #FFFFFF;\n",
              "    }\n",
              "  </style>\n",
              "\n",
              "      <script>\n",
              "        const buttonEl =\n",
              "          document.querySelector('#df-45d52a19-ab06-4c28-8e2c-5304e614d3db button.colab-df-convert');\n",
              "        buttonEl.style.display =\n",
              "          google.colab.kernel.accessAllowed ? 'block' : 'none';\n",
              "\n",
              "        async function convertToInteractive(key) {\n",
              "          const element = document.querySelector('#df-45d52a19-ab06-4c28-8e2c-5304e614d3db');\n",
              "          const dataTable =\n",
              "            await google.colab.kernel.invokeFunction('convertToInteractive',\n",
              "                                                     [key], {});\n",
              "          if (!dataTable) return;\n",
              "\n",
              "          const docLinkHtml = 'Like what you see? Visit the ' +\n",
              "            '<a target=\"_blank\" href=https://colab.research.google.com/notebooks/data_table.ipynb>data table notebook</a>'\n",
              "            + ' to learn more about interactive tables.';\n",
              "          element.innerHTML = '';\n",
              "          dataTable['output_type'] = 'display_data';\n",
              "          await google.colab.output.renderOutput(dataTable, element);\n",
              "          const docLink = document.createElement('div');\n",
              "          docLink.innerHTML = docLinkHtml;\n",
              "          element.appendChild(docLink);\n",
              "        }\n",
              "      </script>\n",
              "    </div>\n",
              "  </div>\n",
              "  "
            ],
            "text/plain": [
              "                count           mean  ...        75%         max\n",
              "price          4600.0  551962.975435  ...  654962.50  26590000.0\n",
              "bedrooms       4600.0       3.400870  ...       4.00         9.0\n",
              "bathrooms      4600.0       1.788913  ...       2.00         8.0\n",
              "sqft_living    4600.0    2139.346957  ...    2620.00     13540.0\n",
              "sqft_lot       4600.0   14852.516087  ...   11001.25   1074218.0\n",
              "floors         4600.0       1.459130  ...       2.00         3.0\n",
              "waterfront     4600.0       0.007174  ...       0.00         1.0\n",
              "view           4600.0       0.240652  ...       0.00         4.0\n",
              "condition      4600.0       3.451739  ...       4.00         5.0\n",
              "sqft_above     4600.0    1827.265435  ...    2300.00      9410.0\n",
              "sqft_basement  4600.0     312.081522  ...     610.00      4820.0\n",
              "yr_built       4600.0    1970.786304  ...    1997.00      2014.0\n",
              "yr_renovated   4600.0     808.608261  ...    1999.00      2014.0\n",
              "\n",
              "[13 rows x 8 columns]"
            ]
          },
          "metadata": {},
          "execution_count": 132
        }
      ]
    },
    {
      "cell_type": "code",
      "source": [
        "# Variables independientes\n",
        "x_h2 = ds_h2.drop('price',axis=1)\n",
        "# Variables dependientes\n",
        "y_h2 = ds_h2['price']"
      ],
      "metadata": {
        "id": "h-aTl10NZian"
      },
      "execution_count": null,
      "outputs": []
    },
    {
      "cell_type": "code",
      "source": [
        "# Importar librería para entrenar\n",
        "from sklearn.model_selection import train_test_split\n",
        "x_h2_train,x_h2_test,y_h2_train,y_h2_test = train_test_split(x_h2,y_h2,test_size=0.20,random_state=43) "
      ],
      "metadata": {
        "id": "G4Um5NStZk7e"
      },
      "execution_count": null,
      "outputs": []
    },
    {
      "cell_type": "code",
      "source": [
        "# Regresion Líneal\n",
        "from sklearn.linear_model import LinearRegression\n",
        "regresion_lineal=LinearRegression()\n",
        "regresion_lineal.fit(x_h2_train,y_h2_train)"
      ],
      "metadata": {
        "colab": {
          "base_uri": "https://localhost:8080/"
        },
        "id": "6M8LfxojZtDV",
        "outputId": "327db419-d768-40af-f809-1b8727b844f1"
      },
      "execution_count": null,
      "outputs": [
        {
          "output_type": "execute_result",
          "data": {
            "text/plain": [
              "LinearRegression()"
            ]
          },
          "metadata": {},
          "execution_count": 135
        }
      ]
    },
    {
      "cell_type": "code",
      "source": [
        "from numpy.core.fromnumeric import mean\n",
        "# Importar el cálculo de error cuadrático\n",
        "from sklearn.metrics import mean_squared_error\n",
        "\n",
        "# Predecir valores y datos usados en entrenamiento\n",
        "pred_train = regresion_lineal.predict(x_h2_train)\n",
        "\n",
        "# Calcular error cuadrático medio\n",
        "mse_h2_train = mean_squared_error(y_true=y_h2_train,y_pred=pred_train)\n",
        "print(\"Error Cuadrático Medio=\"+str(mse_h2_train))\n",
        "\n",
        "# Predecir valores y datos\n",
        "pred_test = regresion_lineal.predict(x_h2_test)\n",
        "\n",
        "# Calcular error cuadrático medio\n",
        "mse_h2_test = mean_squared_error(y_true=y_h2_test,y_pred=pred_test)\n",
        "print(\"Error Cuadrático Medio=\"+str(mse_h2_test))"
      ],
      "metadata": {
        "colab": {
          "base_uri": "https://localhost:8080/"
        },
        "id": "igwTx_8fZwnA",
        "outputId": "3adb65b7-12ed-4df8-8bb7-79180fc8f6b7"
      },
      "execution_count": null,
      "outputs": [
        {
          "output_type": "stream",
          "name": "stdout",
          "text": [
            "Error Cuadrático Medio=292362393825.29297\n",
            "Error Cuadrático Medio=75194221896.11882\n"
          ]
        }
      ]
    },
    {
      "cell_type": "markdown",
      "source": [
        "#### Resumen:\n",
        "- Se observa que el error cuadrático es muy alto, después de entrenar el modelo cambiando las variables flotantes a enteras."
      ],
      "metadata": {
        "id": "ZinNF0aHePAg"
      }
    },
    {
      "cell_type": "markdown",
      "source": [
        "### Hipótesis 3:\n",
        "Normalizar la variable objetivo `price`."
      ],
      "metadata": {
        "id": "Z-zJObqhbn2_"
      }
    },
    {
      "cell_type": "code",
      "source": [
        "# Preparar el dataset de H3 sin indicar las columnas, ya que previamente se han filtrado\n",
        "ds_h3 = pd.get_dummies(data = ds_h2,prefix='OHE',prefix_sep='_',drop_first=True,dtype='int8')\n",
        "\n",
        "# Visualizar el dataset\n",
        "ds_h3.head()"
      ],
      "metadata": {
        "colab": {
          "base_uri": "https://localhost:8080/",
          "height": 270
        },
        "id": "-N6pEEKsb1UD",
        "outputId": "2cd0f836-139b-4030-b7c8-ac0ad27452fd"
      },
      "execution_count": null,
      "outputs": [
        {
          "output_type": "execute_result",
          "data": {
            "text/html": [
              "\n",
              "  <div id=\"df-10d28b26-89cb-4e39-8ea4-c781d2a2764d\">\n",
              "    <div class=\"colab-df-container\">\n",
              "      <div>\n",
              "<style scoped>\n",
              "    .dataframe tbody tr th:only-of-type {\n",
              "        vertical-align: middle;\n",
              "    }\n",
              "\n",
              "    .dataframe tbody tr th {\n",
              "        vertical-align: top;\n",
              "    }\n",
              "\n",
              "    .dataframe thead th {\n",
              "        text-align: right;\n",
              "    }\n",
              "</style>\n",
              "<table border=\"1\" class=\"dataframe\">\n",
              "  <thead>\n",
              "    <tr style=\"text-align: right;\">\n",
              "      <th></th>\n",
              "      <th>price</th>\n",
              "      <th>bedrooms</th>\n",
              "      <th>bathrooms</th>\n",
              "      <th>sqft_living</th>\n",
              "      <th>sqft_lot</th>\n",
              "      <th>floors</th>\n",
              "      <th>waterfront</th>\n",
              "      <th>view</th>\n",
              "      <th>condition</th>\n",
              "      <th>sqft_above</th>\n",
              "      <th>sqft_basement</th>\n",
              "      <th>yr_built</th>\n",
              "      <th>yr_renovated</th>\n",
              "    </tr>\n",
              "  </thead>\n",
              "  <tbody>\n",
              "    <tr>\n",
              "      <th>0</th>\n",
              "      <td>313000</td>\n",
              "      <td>3</td>\n",
              "      <td>1</td>\n",
              "      <td>1340</td>\n",
              "      <td>7912</td>\n",
              "      <td>1</td>\n",
              "      <td>0</td>\n",
              "      <td>0</td>\n",
              "      <td>3</td>\n",
              "      <td>1340</td>\n",
              "      <td>0</td>\n",
              "      <td>1955</td>\n",
              "      <td>2005</td>\n",
              "    </tr>\n",
              "    <tr>\n",
              "      <th>1</th>\n",
              "      <td>2384000</td>\n",
              "      <td>5</td>\n",
              "      <td>2</td>\n",
              "      <td>3650</td>\n",
              "      <td>9050</td>\n",
              "      <td>2</td>\n",
              "      <td>0</td>\n",
              "      <td>4</td>\n",
              "      <td>5</td>\n",
              "      <td>3370</td>\n",
              "      <td>280</td>\n",
              "      <td>1921</td>\n",
              "      <td>0</td>\n",
              "    </tr>\n",
              "    <tr>\n",
              "      <th>2</th>\n",
              "      <td>342000</td>\n",
              "      <td>3</td>\n",
              "      <td>2</td>\n",
              "      <td>1930</td>\n",
              "      <td>11947</td>\n",
              "      <td>1</td>\n",
              "      <td>0</td>\n",
              "      <td>0</td>\n",
              "      <td>4</td>\n",
              "      <td>1930</td>\n",
              "      <td>0</td>\n",
              "      <td>1966</td>\n",
              "      <td>0</td>\n",
              "    </tr>\n",
              "    <tr>\n",
              "      <th>3</th>\n",
              "      <td>420000</td>\n",
              "      <td>3</td>\n",
              "      <td>2</td>\n",
              "      <td>2000</td>\n",
              "      <td>8030</td>\n",
              "      <td>1</td>\n",
              "      <td>0</td>\n",
              "      <td>0</td>\n",
              "      <td>4</td>\n",
              "      <td>1000</td>\n",
              "      <td>1000</td>\n",
              "      <td>1963</td>\n",
              "      <td>0</td>\n",
              "    </tr>\n",
              "    <tr>\n",
              "      <th>4</th>\n",
              "      <td>550000</td>\n",
              "      <td>4</td>\n",
              "      <td>2</td>\n",
              "      <td>1940</td>\n",
              "      <td>10500</td>\n",
              "      <td>1</td>\n",
              "      <td>0</td>\n",
              "      <td>0</td>\n",
              "      <td>4</td>\n",
              "      <td>1140</td>\n",
              "      <td>800</td>\n",
              "      <td>1976</td>\n",
              "      <td>1992</td>\n",
              "    </tr>\n",
              "  </tbody>\n",
              "</table>\n",
              "</div>\n",
              "      <button class=\"colab-df-convert\" onclick=\"convertToInteractive('df-10d28b26-89cb-4e39-8ea4-c781d2a2764d')\"\n",
              "              title=\"Convert this dataframe to an interactive table.\"\n",
              "              style=\"display:none;\">\n",
              "        \n",
              "  <svg xmlns=\"http://www.w3.org/2000/svg\" height=\"24px\"viewBox=\"0 0 24 24\"\n",
              "       width=\"24px\">\n",
              "    <path d=\"M0 0h24v24H0V0z\" fill=\"none\"/>\n",
              "    <path d=\"M18.56 5.44l.94 2.06.94-2.06 2.06-.94-2.06-.94-.94-2.06-.94 2.06-2.06.94zm-11 1L8.5 8.5l.94-2.06 2.06-.94-2.06-.94L8.5 2.5l-.94 2.06-2.06.94zm10 10l.94 2.06.94-2.06 2.06-.94-2.06-.94-.94-2.06-.94 2.06-2.06.94z\"/><path d=\"M17.41 7.96l-1.37-1.37c-.4-.4-.92-.59-1.43-.59-.52 0-1.04.2-1.43.59L10.3 9.45l-7.72 7.72c-.78.78-.78 2.05 0 2.83L4 21.41c.39.39.9.59 1.41.59.51 0 1.02-.2 1.41-.59l7.78-7.78 2.81-2.81c.8-.78.8-2.07 0-2.86zM5.41 20L4 18.59l7.72-7.72 1.47 1.35L5.41 20z\"/>\n",
              "  </svg>\n",
              "      </button>\n",
              "      \n",
              "  <style>\n",
              "    .colab-df-container {\n",
              "      display:flex;\n",
              "      flex-wrap:wrap;\n",
              "      gap: 12px;\n",
              "    }\n",
              "\n",
              "    .colab-df-convert {\n",
              "      background-color: #E8F0FE;\n",
              "      border: none;\n",
              "      border-radius: 50%;\n",
              "      cursor: pointer;\n",
              "      display: none;\n",
              "      fill: #1967D2;\n",
              "      height: 32px;\n",
              "      padding: 0 0 0 0;\n",
              "      width: 32px;\n",
              "    }\n",
              "\n",
              "    .colab-df-convert:hover {\n",
              "      background-color: #E2EBFA;\n",
              "      box-shadow: 0px 1px 2px rgba(60, 64, 67, 0.3), 0px 1px 3px 1px rgba(60, 64, 67, 0.15);\n",
              "      fill: #174EA6;\n",
              "    }\n",
              "\n",
              "    [theme=dark] .colab-df-convert {\n",
              "      background-color: #3B4455;\n",
              "      fill: #D2E3FC;\n",
              "    }\n",
              "\n",
              "    [theme=dark] .colab-df-convert:hover {\n",
              "      background-color: #434B5C;\n",
              "      box-shadow: 0px 1px 3px 1px rgba(0, 0, 0, 0.15);\n",
              "      filter: drop-shadow(0px 1px 2px rgba(0, 0, 0, 0.3));\n",
              "      fill: #FFFFFF;\n",
              "    }\n",
              "  </style>\n",
              "\n",
              "      <script>\n",
              "        const buttonEl =\n",
              "          document.querySelector('#df-10d28b26-89cb-4e39-8ea4-c781d2a2764d button.colab-df-convert');\n",
              "        buttonEl.style.display =\n",
              "          google.colab.kernel.accessAllowed ? 'block' : 'none';\n",
              "\n",
              "        async function convertToInteractive(key) {\n",
              "          const element = document.querySelector('#df-10d28b26-89cb-4e39-8ea4-c781d2a2764d');\n",
              "          const dataTable =\n",
              "            await google.colab.kernel.invokeFunction('convertToInteractive',\n",
              "                                                     [key], {});\n",
              "          if (!dataTable) return;\n",
              "\n",
              "          const docLinkHtml = 'Like what you see? Visit the ' +\n",
              "            '<a target=\"_blank\" href=https://colab.research.google.com/notebooks/data_table.ipynb>data table notebook</a>'\n",
              "            + ' to learn more about interactive tables.';\n",
              "          element.innerHTML = '';\n",
              "          dataTable['output_type'] = 'display_data';\n",
              "          await google.colab.output.renderOutput(dataTable, element);\n",
              "          const docLink = document.createElement('div');\n",
              "          docLink.innerHTML = docLinkHtml;\n",
              "          element.appendChild(docLink);\n",
              "        }\n",
              "      </script>\n",
              "    </div>\n",
              "  </div>\n",
              "  "
            ],
            "text/plain": [
              "     price  bedrooms  bathrooms  ...  sqft_basement  yr_built  yr_renovated\n",
              "0   313000         3          1  ...              0      1955          2005\n",
              "1  2384000         5          2  ...            280      1921             0\n",
              "2   342000         3          2  ...              0      1966             0\n",
              "3   420000         3          2  ...           1000      1963             0\n",
              "4   550000         4          2  ...            800      1976          1992\n",
              "\n",
              "[5 rows x 13 columns]"
            ]
          },
          "metadata": {},
          "execution_count": 138
        }
      ]
    },
    {
      "cell_type": "code",
      "source": [
        "# Describe los datos de forma estadística\n",
        "ds_h3.describe().transpose()"
      ],
      "metadata": {
        "colab": {
          "base_uri": "https://localhost:8080/",
          "height": 457
        },
        "id": "dGb4EAKBeBKN",
        "outputId": "2bfb501c-7476-4c80-9891-c180984ffa0e"
      },
      "execution_count": null,
      "outputs": [
        {
          "output_type": "execute_result",
          "data": {
            "text/html": [
              "\n",
              "  <div id=\"df-70cbbe04-34e7-4f3f-8919-3082ad0c9ebf\">\n",
              "    <div class=\"colab-df-container\">\n",
              "      <div>\n",
              "<style scoped>\n",
              "    .dataframe tbody tr th:only-of-type {\n",
              "        vertical-align: middle;\n",
              "    }\n",
              "\n",
              "    .dataframe tbody tr th {\n",
              "        vertical-align: top;\n",
              "    }\n",
              "\n",
              "    .dataframe thead th {\n",
              "        text-align: right;\n",
              "    }\n",
              "</style>\n",
              "<table border=\"1\" class=\"dataframe\">\n",
              "  <thead>\n",
              "    <tr style=\"text-align: right;\">\n",
              "      <th></th>\n",
              "      <th>count</th>\n",
              "      <th>mean</th>\n",
              "      <th>std</th>\n",
              "      <th>min</th>\n",
              "      <th>25%</th>\n",
              "      <th>50%</th>\n",
              "      <th>75%</th>\n",
              "      <th>max</th>\n",
              "    </tr>\n",
              "  </thead>\n",
              "  <tbody>\n",
              "    <tr>\n",
              "      <th>price</th>\n",
              "      <td>4600.0</td>\n",
              "      <td>551962.975435</td>\n",
              "      <td>563834.706028</td>\n",
              "      <td>0.0</td>\n",
              "      <td>322875.00</td>\n",
              "      <td>460943.0</td>\n",
              "      <td>654962.50</td>\n",
              "      <td>26590000.0</td>\n",
              "    </tr>\n",
              "    <tr>\n",
              "      <th>bedrooms</th>\n",
              "      <td>4600.0</td>\n",
              "      <td>3.400870</td>\n",
              "      <td>0.908848</td>\n",
              "      <td>0.0</td>\n",
              "      <td>3.00</td>\n",
              "      <td>3.0</td>\n",
              "      <td>4.00</td>\n",
              "      <td>9.0</td>\n",
              "    </tr>\n",
              "    <tr>\n",
              "      <th>bathrooms</th>\n",
              "      <td>4600.0</td>\n",
              "      <td>1.788913</td>\n",
              "      <td>0.752185</td>\n",
              "      <td>0.0</td>\n",
              "      <td>1.00</td>\n",
              "      <td>2.0</td>\n",
              "      <td>2.00</td>\n",
              "      <td>8.0</td>\n",
              "    </tr>\n",
              "    <tr>\n",
              "      <th>sqft_living</th>\n",
              "      <td>4600.0</td>\n",
              "      <td>2139.346957</td>\n",
              "      <td>963.206916</td>\n",
              "      <td>370.0</td>\n",
              "      <td>1460.00</td>\n",
              "      <td>1980.0</td>\n",
              "      <td>2620.00</td>\n",
              "      <td>13540.0</td>\n",
              "    </tr>\n",
              "    <tr>\n",
              "      <th>sqft_lot</th>\n",
              "      <td>4600.0</td>\n",
              "      <td>14852.516087</td>\n",
              "      <td>35884.436145</td>\n",
              "      <td>638.0</td>\n",
              "      <td>5000.75</td>\n",
              "      <td>7683.0</td>\n",
              "      <td>11001.25</td>\n",
              "      <td>1074218.0</td>\n",
              "    </tr>\n",
              "    <tr>\n",
              "      <th>floors</th>\n",
              "      <td>4600.0</td>\n",
              "      <td>1.459130</td>\n",
              "      <td>0.552194</td>\n",
              "      <td>1.0</td>\n",
              "      <td>1.00</td>\n",
              "      <td>1.0</td>\n",
              "      <td>2.00</td>\n",
              "      <td>3.0</td>\n",
              "    </tr>\n",
              "    <tr>\n",
              "      <th>waterfront</th>\n",
              "      <td>4600.0</td>\n",
              "      <td>0.007174</td>\n",
              "      <td>0.084404</td>\n",
              "      <td>0.0</td>\n",
              "      <td>0.00</td>\n",
              "      <td>0.0</td>\n",
              "      <td>0.00</td>\n",
              "      <td>1.0</td>\n",
              "    </tr>\n",
              "    <tr>\n",
              "      <th>view</th>\n",
              "      <td>4600.0</td>\n",
              "      <td>0.240652</td>\n",
              "      <td>0.778405</td>\n",
              "      <td>0.0</td>\n",
              "      <td>0.00</td>\n",
              "      <td>0.0</td>\n",
              "      <td>0.00</td>\n",
              "      <td>4.0</td>\n",
              "    </tr>\n",
              "    <tr>\n",
              "      <th>condition</th>\n",
              "      <td>4600.0</td>\n",
              "      <td>3.451739</td>\n",
              "      <td>0.677230</td>\n",
              "      <td>1.0</td>\n",
              "      <td>3.00</td>\n",
              "      <td>3.0</td>\n",
              "      <td>4.00</td>\n",
              "      <td>5.0</td>\n",
              "    </tr>\n",
              "    <tr>\n",
              "      <th>sqft_above</th>\n",
              "      <td>4600.0</td>\n",
              "      <td>1827.265435</td>\n",
              "      <td>862.168977</td>\n",
              "      <td>370.0</td>\n",
              "      <td>1190.00</td>\n",
              "      <td>1590.0</td>\n",
              "      <td>2300.00</td>\n",
              "      <td>9410.0</td>\n",
              "    </tr>\n",
              "    <tr>\n",
              "      <th>sqft_basement</th>\n",
              "      <td>4600.0</td>\n",
              "      <td>312.081522</td>\n",
              "      <td>464.137228</td>\n",
              "      <td>0.0</td>\n",
              "      <td>0.00</td>\n",
              "      <td>0.0</td>\n",
              "      <td>610.00</td>\n",
              "      <td>4820.0</td>\n",
              "    </tr>\n",
              "    <tr>\n",
              "      <th>yr_built</th>\n",
              "      <td>4600.0</td>\n",
              "      <td>1970.786304</td>\n",
              "      <td>29.731848</td>\n",
              "      <td>1900.0</td>\n",
              "      <td>1951.00</td>\n",
              "      <td>1976.0</td>\n",
              "      <td>1997.00</td>\n",
              "      <td>2014.0</td>\n",
              "    </tr>\n",
              "    <tr>\n",
              "      <th>yr_renovated</th>\n",
              "      <td>4600.0</td>\n",
              "      <td>808.608261</td>\n",
              "      <td>979.414536</td>\n",
              "      <td>0.0</td>\n",
              "      <td>0.00</td>\n",
              "      <td>0.0</td>\n",
              "      <td>1999.00</td>\n",
              "      <td>2014.0</td>\n",
              "    </tr>\n",
              "  </tbody>\n",
              "</table>\n",
              "</div>\n",
              "      <button class=\"colab-df-convert\" onclick=\"convertToInteractive('df-70cbbe04-34e7-4f3f-8919-3082ad0c9ebf')\"\n",
              "              title=\"Convert this dataframe to an interactive table.\"\n",
              "              style=\"display:none;\">\n",
              "        \n",
              "  <svg xmlns=\"http://www.w3.org/2000/svg\" height=\"24px\"viewBox=\"0 0 24 24\"\n",
              "       width=\"24px\">\n",
              "    <path d=\"M0 0h24v24H0V0z\" fill=\"none\"/>\n",
              "    <path d=\"M18.56 5.44l.94 2.06.94-2.06 2.06-.94-2.06-.94-.94-2.06-.94 2.06-2.06.94zm-11 1L8.5 8.5l.94-2.06 2.06-.94-2.06-.94L8.5 2.5l-.94 2.06-2.06.94zm10 10l.94 2.06.94-2.06 2.06-.94-2.06-.94-.94-2.06-.94 2.06-2.06.94z\"/><path d=\"M17.41 7.96l-1.37-1.37c-.4-.4-.92-.59-1.43-.59-.52 0-1.04.2-1.43.59L10.3 9.45l-7.72 7.72c-.78.78-.78 2.05 0 2.83L4 21.41c.39.39.9.59 1.41.59.51 0 1.02-.2 1.41-.59l7.78-7.78 2.81-2.81c.8-.78.8-2.07 0-2.86zM5.41 20L4 18.59l7.72-7.72 1.47 1.35L5.41 20z\"/>\n",
              "  </svg>\n",
              "      </button>\n",
              "      \n",
              "  <style>\n",
              "    .colab-df-container {\n",
              "      display:flex;\n",
              "      flex-wrap:wrap;\n",
              "      gap: 12px;\n",
              "    }\n",
              "\n",
              "    .colab-df-convert {\n",
              "      background-color: #E8F0FE;\n",
              "      border: none;\n",
              "      border-radius: 50%;\n",
              "      cursor: pointer;\n",
              "      display: none;\n",
              "      fill: #1967D2;\n",
              "      height: 32px;\n",
              "      padding: 0 0 0 0;\n",
              "      width: 32px;\n",
              "    }\n",
              "\n",
              "    .colab-df-convert:hover {\n",
              "      background-color: #E2EBFA;\n",
              "      box-shadow: 0px 1px 2px rgba(60, 64, 67, 0.3), 0px 1px 3px 1px rgba(60, 64, 67, 0.15);\n",
              "      fill: #174EA6;\n",
              "    }\n",
              "\n",
              "    [theme=dark] .colab-df-convert {\n",
              "      background-color: #3B4455;\n",
              "      fill: #D2E3FC;\n",
              "    }\n",
              "\n",
              "    [theme=dark] .colab-df-convert:hover {\n",
              "      background-color: #434B5C;\n",
              "      box-shadow: 0px 1px 3px 1px rgba(0, 0, 0, 0.15);\n",
              "      filter: drop-shadow(0px 1px 2px rgba(0, 0, 0, 0.3));\n",
              "      fill: #FFFFFF;\n",
              "    }\n",
              "  </style>\n",
              "\n",
              "      <script>\n",
              "        const buttonEl =\n",
              "          document.querySelector('#df-70cbbe04-34e7-4f3f-8919-3082ad0c9ebf button.colab-df-convert');\n",
              "        buttonEl.style.display =\n",
              "          google.colab.kernel.accessAllowed ? 'block' : 'none';\n",
              "\n",
              "        async function convertToInteractive(key) {\n",
              "          const element = document.querySelector('#df-70cbbe04-34e7-4f3f-8919-3082ad0c9ebf');\n",
              "          const dataTable =\n",
              "            await google.colab.kernel.invokeFunction('convertToInteractive',\n",
              "                                                     [key], {});\n",
              "          if (!dataTable) return;\n",
              "\n",
              "          const docLinkHtml = 'Like what you see? Visit the ' +\n",
              "            '<a target=\"_blank\" href=https://colab.research.google.com/notebooks/data_table.ipynb>data table notebook</a>'\n",
              "            + ' to learn more about interactive tables.';\n",
              "          element.innerHTML = '';\n",
              "          dataTable['output_type'] = 'display_data';\n",
              "          await google.colab.output.renderOutput(dataTable, element);\n",
              "          const docLink = document.createElement('div');\n",
              "          docLink.innerHTML = docLinkHtml;\n",
              "          element.appendChild(docLink);\n",
              "        }\n",
              "      </script>\n",
              "    </div>\n",
              "  </div>\n",
              "  "
            ],
            "text/plain": [
              "                count           mean  ...        75%         max\n",
              "price          4600.0  551962.975435  ...  654962.50  26590000.0\n",
              "bedrooms       4600.0       3.400870  ...       4.00         9.0\n",
              "bathrooms      4600.0       1.788913  ...       2.00         8.0\n",
              "sqft_living    4600.0    2139.346957  ...    2620.00     13540.0\n",
              "sqft_lot       4600.0   14852.516087  ...   11001.25   1074218.0\n",
              "floors         4600.0       1.459130  ...       2.00         3.0\n",
              "waterfront     4600.0       0.007174  ...       0.00         1.0\n",
              "view           4600.0       0.240652  ...       0.00         4.0\n",
              "condition      4600.0       3.451739  ...       4.00         5.0\n",
              "sqft_above     4600.0    1827.265435  ...    2300.00      9410.0\n",
              "sqft_basement  4600.0     312.081522  ...     610.00      4820.0\n",
              "yr_built       4600.0    1970.786304  ...    1997.00      2014.0\n",
              "yr_renovated   4600.0     808.608261  ...    1999.00      2014.0\n",
              "\n",
              "[13 rows x 8 columns]"
            ]
          },
          "metadata": {},
          "execution_count": 145
        }
      ]
    },
    {
      "cell_type": "code",
      "source": [
        "# Variables independientes\n",
        "x_h3 = ds_h3.drop('price',axis=1)\n",
        "# Variables dependientes\n",
        "y_h3 = ds_h3['price']"
      ],
      "metadata": {
        "id": "uO-2iMrxdMLB"
      },
      "execution_count": null,
      "outputs": []
    },
    {
      "cell_type": "code",
      "source": [
        "# Escalar variable price para estandarizar\n",
        "from sklearn.preprocessing import StandardScaler\n",
        "scaler = StandardScaler()\n",
        "# Transformar numpy convierte la serie en array y luego reshape -1,1 pasa a matriz nx1\n",
        "y_h3 = scaler.fit_transform(y_h3.to_numpy().reshape(-1,1))\n",
        "# Transformar variable en un array 1xn\n",
        "y_h3 = y_h3.reshape(1,-1)[0]"
      ],
      "metadata": {
        "id": "k46irR1rdU2b"
      },
      "execution_count": null,
      "outputs": []
    },
    {
      "cell_type": "code",
      "source": [
        "#Entrenar\n",
        "x_h3_train,x_h3_test,y_h3_train,y_h3_test = train_test_split(x_h3,y_h3,test_size=0.20,random_state=43) "
      ],
      "metadata": {
        "id": "E7ksB3ELdX5V"
      },
      "execution_count": null,
      "outputs": []
    },
    {
      "cell_type": "code",
      "source": [
        "# Regresion Líneal\n",
        "from sklearn.linear_model import LinearRegression\n",
        "regresion_lineal_3=LinearRegression()\n",
        "regresion_lineal_3.fit(x_h3_train,y_h3_train)"
      ],
      "metadata": {
        "colab": {
          "base_uri": "https://localhost:8080/"
        },
        "id": "gr7e2rEkdZVX",
        "outputId": "a108d95c-0b43-4515-8670-8f60220b00e7"
      },
      "execution_count": null,
      "outputs": [
        {
          "output_type": "execute_result",
          "data": {
            "text/plain": [
              "LinearRegression()"
            ]
          },
          "metadata": {},
          "execution_count": 142
        }
      ]
    },
    {
      "cell_type": "code",
      "source": [
        "# predecir valores y datos usados en entrenamiento\n",
        "pred_train_3 = regresion_lineal_3.predict(x_h3_train)\n",
        "\n",
        "# calcular error cuadrático medio\n",
        "mse_h3_train = mean_squared_error(y_true=y_h3_train,y_pred=pred_train_3)\n",
        "print(\"Error Cuadrático Medio=\"+str(mse_h3_train))\n",
        "\n",
        "# predecir valores y datos\n",
        "pred_test_3 = regresion_lineal_3.predict(x_h3_test)\n",
        "\n",
        "# calcular error cuadrático medio\n",
        "mse_h3_test = mean_squared_error(y_true=y_h3_test,y_pred=pred_test_3)\n",
        "print(\"Error Cuadrático Medio=\"+str(mse_h3_test))"
      ],
      "metadata": {
        "colab": {
          "base_uri": "https://localhost:8080/"
        },
        "id": "rP0xviJtda_y",
        "outputId": "dfe22ca2-de1f-4160-b1d2-8caa070b2ba6"
      },
      "execution_count": null,
      "outputs": [
        {
          "output_type": "stream",
          "name": "stdout",
          "text": [
            "Error Cuadrático Medio=0.9198400646593591\n",
            "Error Cuadrático Medio=0.2365785045948176\n"
          ]
        }
      ]
    },
    {
      "cell_type": "markdown",
      "source": [
        "#### Resumen:\n",
        "- Se observa que el error cuadrático baja cuando se normaliza la variable objetivo."
      ],
      "metadata": {
        "id": "yGjMgi3JfRt3"
      }
    },
    {
      "cell_type": "code",
      "source": [
        "ds_h3"
      ],
      "metadata": {
        "colab": {
          "base_uri": "https://localhost:8080/",
          "height": 488
        },
        "id": "AQRa1F1mh2_v",
        "outputId": "f5a8b5c0-7ea8-4aae-94b8-21384fefb026"
      },
      "execution_count": null,
      "outputs": [
        {
          "output_type": "execute_result",
          "data": {
            "text/html": [
              "\n",
              "  <div id=\"df-438da5a6-b73d-4608-8888-e0278e642e8f\">\n",
              "    <div class=\"colab-df-container\">\n",
              "      <div>\n",
              "<style scoped>\n",
              "    .dataframe tbody tr th:only-of-type {\n",
              "        vertical-align: middle;\n",
              "    }\n",
              "\n",
              "    .dataframe tbody tr th {\n",
              "        vertical-align: top;\n",
              "    }\n",
              "\n",
              "    .dataframe thead th {\n",
              "        text-align: right;\n",
              "    }\n",
              "</style>\n",
              "<table border=\"1\" class=\"dataframe\">\n",
              "  <thead>\n",
              "    <tr style=\"text-align: right;\">\n",
              "      <th></th>\n",
              "      <th>price</th>\n",
              "      <th>bedrooms</th>\n",
              "      <th>bathrooms</th>\n",
              "      <th>sqft_living</th>\n",
              "      <th>sqft_lot</th>\n",
              "      <th>floors</th>\n",
              "      <th>waterfront</th>\n",
              "      <th>view</th>\n",
              "      <th>condition</th>\n",
              "      <th>sqft_above</th>\n",
              "      <th>sqft_basement</th>\n",
              "      <th>yr_built</th>\n",
              "      <th>yr_renovated</th>\n",
              "    </tr>\n",
              "  </thead>\n",
              "  <tbody>\n",
              "    <tr>\n",
              "      <th>0</th>\n",
              "      <td>313000</td>\n",
              "      <td>3</td>\n",
              "      <td>1</td>\n",
              "      <td>1340</td>\n",
              "      <td>7912</td>\n",
              "      <td>1</td>\n",
              "      <td>0</td>\n",
              "      <td>0</td>\n",
              "      <td>3</td>\n",
              "      <td>1340</td>\n",
              "      <td>0</td>\n",
              "      <td>1955</td>\n",
              "      <td>2005</td>\n",
              "    </tr>\n",
              "    <tr>\n",
              "      <th>1</th>\n",
              "      <td>2384000</td>\n",
              "      <td>5</td>\n",
              "      <td>2</td>\n",
              "      <td>3650</td>\n",
              "      <td>9050</td>\n",
              "      <td>2</td>\n",
              "      <td>0</td>\n",
              "      <td>4</td>\n",
              "      <td>5</td>\n",
              "      <td>3370</td>\n",
              "      <td>280</td>\n",
              "      <td>1921</td>\n",
              "      <td>0</td>\n",
              "    </tr>\n",
              "    <tr>\n",
              "      <th>2</th>\n",
              "      <td>342000</td>\n",
              "      <td>3</td>\n",
              "      <td>2</td>\n",
              "      <td>1930</td>\n",
              "      <td>11947</td>\n",
              "      <td>1</td>\n",
              "      <td>0</td>\n",
              "      <td>0</td>\n",
              "      <td>4</td>\n",
              "      <td>1930</td>\n",
              "      <td>0</td>\n",
              "      <td>1966</td>\n",
              "      <td>0</td>\n",
              "    </tr>\n",
              "    <tr>\n",
              "      <th>3</th>\n",
              "      <td>420000</td>\n",
              "      <td>3</td>\n",
              "      <td>2</td>\n",
              "      <td>2000</td>\n",
              "      <td>8030</td>\n",
              "      <td>1</td>\n",
              "      <td>0</td>\n",
              "      <td>0</td>\n",
              "      <td>4</td>\n",
              "      <td>1000</td>\n",
              "      <td>1000</td>\n",
              "      <td>1963</td>\n",
              "      <td>0</td>\n",
              "    </tr>\n",
              "    <tr>\n",
              "      <th>4</th>\n",
              "      <td>550000</td>\n",
              "      <td>4</td>\n",
              "      <td>2</td>\n",
              "      <td>1940</td>\n",
              "      <td>10500</td>\n",
              "      <td>1</td>\n",
              "      <td>0</td>\n",
              "      <td>0</td>\n",
              "      <td>4</td>\n",
              "      <td>1140</td>\n",
              "      <td>800</td>\n",
              "      <td>1976</td>\n",
              "      <td>1992</td>\n",
              "    </tr>\n",
              "    <tr>\n",
              "      <th>...</th>\n",
              "      <td>...</td>\n",
              "      <td>...</td>\n",
              "      <td>...</td>\n",
              "      <td>...</td>\n",
              "      <td>...</td>\n",
              "      <td>...</td>\n",
              "      <td>...</td>\n",
              "      <td>...</td>\n",
              "      <td>...</td>\n",
              "      <td>...</td>\n",
              "      <td>...</td>\n",
              "      <td>...</td>\n",
              "      <td>...</td>\n",
              "    </tr>\n",
              "    <tr>\n",
              "      <th>4595</th>\n",
              "      <td>308166</td>\n",
              "      <td>3</td>\n",
              "      <td>1</td>\n",
              "      <td>1510</td>\n",
              "      <td>6360</td>\n",
              "      <td>1</td>\n",
              "      <td>0</td>\n",
              "      <td>0</td>\n",
              "      <td>4</td>\n",
              "      <td>1510</td>\n",
              "      <td>0</td>\n",
              "      <td>1954</td>\n",
              "      <td>1979</td>\n",
              "    </tr>\n",
              "    <tr>\n",
              "      <th>4596</th>\n",
              "      <td>534333</td>\n",
              "      <td>3</td>\n",
              "      <td>2</td>\n",
              "      <td>1460</td>\n",
              "      <td>7573</td>\n",
              "      <td>2</td>\n",
              "      <td>0</td>\n",
              "      <td>0</td>\n",
              "      <td>3</td>\n",
              "      <td>1460</td>\n",
              "      <td>0</td>\n",
              "      <td>1983</td>\n",
              "      <td>2009</td>\n",
              "    </tr>\n",
              "    <tr>\n",
              "      <th>4597</th>\n",
              "      <td>416904</td>\n",
              "      <td>3</td>\n",
              "      <td>2</td>\n",
              "      <td>3010</td>\n",
              "      <td>7014</td>\n",
              "      <td>2</td>\n",
              "      <td>0</td>\n",
              "      <td>0</td>\n",
              "      <td>3</td>\n",
              "      <td>3010</td>\n",
              "      <td>0</td>\n",
              "      <td>2009</td>\n",
              "      <td>0</td>\n",
              "    </tr>\n",
              "    <tr>\n",
              "      <th>4598</th>\n",
              "      <td>203400</td>\n",
              "      <td>4</td>\n",
              "      <td>2</td>\n",
              "      <td>2090</td>\n",
              "      <td>6630</td>\n",
              "      <td>1</td>\n",
              "      <td>0</td>\n",
              "      <td>0</td>\n",
              "      <td>3</td>\n",
              "      <td>1070</td>\n",
              "      <td>1020</td>\n",
              "      <td>1974</td>\n",
              "      <td>0</td>\n",
              "    </tr>\n",
              "    <tr>\n",
              "      <th>4599</th>\n",
              "      <td>220600</td>\n",
              "      <td>3</td>\n",
              "      <td>2</td>\n",
              "      <td>1490</td>\n",
              "      <td>8102</td>\n",
              "      <td>2</td>\n",
              "      <td>0</td>\n",
              "      <td>0</td>\n",
              "      <td>4</td>\n",
              "      <td>1490</td>\n",
              "      <td>0</td>\n",
              "      <td>1990</td>\n",
              "      <td>0</td>\n",
              "    </tr>\n",
              "  </tbody>\n",
              "</table>\n",
              "<p>4600 rows × 13 columns</p>\n",
              "</div>\n",
              "      <button class=\"colab-df-convert\" onclick=\"convertToInteractive('df-438da5a6-b73d-4608-8888-e0278e642e8f')\"\n",
              "              title=\"Convert this dataframe to an interactive table.\"\n",
              "              style=\"display:none;\">\n",
              "        \n",
              "  <svg xmlns=\"http://www.w3.org/2000/svg\" height=\"24px\"viewBox=\"0 0 24 24\"\n",
              "       width=\"24px\">\n",
              "    <path d=\"M0 0h24v24H0V0z\" fill=\"none\"/>\n",
              "    <path d=\"M18.56 5.44l.94 2.06.94-2.06 2.06-.94-2.06-.94-.94-2.06-.94 2.06-2.06.94zm-11 1L8.5 8.5l.94-2.06 2.06-.94-2.06-.94L8.5 2.5l-.94 2.06-2.06.94zm10 10l.94 2.06.94-2.06 2.06-.94-2.06-.94-.94-2.06-.94 2.06-2.06.94z\"/><path d=\"M17.41 7.96l-1.37-1.37c-.4-.4-.92-.59-1.43-.59-.52 0-1.04.2-1.43.59L10.3 9.45l-7.72 7.72c-.78.78-.78 2.05 0 2.83L4 21.41c.39.39.9.59 1.41.59.51 0 1.02-.2 1.41-.59l7.78-7.78 2.81-2.81c.8-.78.8-2.07 0-2.86zM5.41 20L4 18.59l7.72-7.72 1.47 1.35L5.41 20z\"/>\n",
              "  </svg>\n",
              "      </button>\n",
              "      \n",
              "  <style>\n",
              "    .colab-df-container {\n",
              "      display:flex;\n",
              "      flex-wrap:wrap;\n",
              "      gap: 12px;\n",
              "    }\n",
              "\n",
              "    .colab-df-convert {\n",
              "      background-color: #E8F0FE;\n",
              "      border: none;\n",
              "      border-radius: 50%;\n",
              "      cursor: pointer;\n",
              "      display: none;\n",
              "      fill: #1967D2;\n",
              "      height: 32px;\n",
              "      padding: 0 0 0 0;\n",
              "      width: 32px;\n",
              "    }\n",
              "\n",
              "    .colab-df-convert:hover {\n",
              "      background-color: #E2EBFA;\n",
              "      box-shadow: 0px 1px 2px rgba(60, 64, 67, 0.3), 0px 1px 3px 1px rgba(60, 64, 67, 0.15);\n",
              "      fill: #174EA6;\n",
              "    }\n",
              "\n",
              "    [theme=dark] .colab-df-convert {\n",
              "      background-color: #3B4455;\n",
              "      fill: #D2E3FC;\n",
              "    }\n",
              "\n",
              "    [theme=dark] .colab-df-convert:hover {\n",
              "      background-color: #434B5C;\n",
              "      box-shadow: 0px 1px 3px 1px rgba(0, 0, 0, 0.15);\n",
              "      filter: drop-shadow(0px 1px 2px rgba(0, 0, 0, 0.3));\n",
              "      fill: #FFFFFF;\n",
              "    }\n",
              "  </style>\n",
              "\n",
              "      <script>\n",
              "        const buttonEl =\n",
              "          document.querySelector('#df-438da5a6-b73d-4608-8888-e0278e642e8f button.colab-df-convert');\n",
              "        buttonEl.style.display =\n",
              "          google.colab.kernel.accessAllowed ? 'block' : 'none';\n",
              "\n",
              "        async function convertToInteractive(key) {\n",
              "          const element = document.querySelector('#df-438da5a6-b73d-4608-8888-e0278e642e8f');\n",
              "          const dataTable =\n",
              "            await google.colab.kernel.invokeFunction('convertToInteractive',\n",
              "                                                     [key], {});\n",
              "          if (!dataTable) return;\n",
              "\n",
              "          const docLinkHtml = 'Like what you see? Visit the ' +\n",
              "            '<a target=\"_blank\" href=https://colab.research.google.com/notebooks/data_table.ipynb>data table notebook</a>'\n",
              "            + ' to learn more about interactive tables.';\n",
              "          element.innerHTML = '';\n",
              "          dataTable['output_type'] = 'display_data';\n",
              "          await google.colab.output.renderOutput(dataTable, element);\n",
              "          const docLink = document.createElement('div');\n",
              "          docLink.innerHTML = docLinkHtml;\n",
              "          element.appendChild(docLink);\n",
              "        }\n",
              "      </script>\n",
              "    </div>\n",
              "  </div>\n",
              "  "
            ],
            "text/plain": [
              "        price  bedrooms  bathrooms  ...  sqft_basement  yr_built  yr_renovated\n",
              "0      313000         3          1  ...              0      1955          2005\n",
              "1     2384000         5          2  ...            280      1921             0\n",
              "2      342000         3          2  ...              0      1966             0\n",
              "3      420000         3          2  ...           1000      1963             0\n",
              "4      550000         4          2  ...            800      1976          1992\n",
              "...       ...       ...        ...  ...            ...       ...           ...\n",
              "4595   308166         3          1  ...              0      1954          1979\n",
              "4596   534333         3          2  ...              0      1983          2009\n",
              "4597   416904         3          2  ...              0      2009             0\n",
              "4598   203400         4          2  ...           1020      1974             0\n",
              "4599   220600         3          2  ...              0      1990             0\n",
              "\n",
              "[4600 rows x 13 columns]"
            ]
          },
          "metadata": {},
          "execution_count": 146
        }
      ]
    },
    {
      "cell_type": "markdown",
      "source": [
        "## Fase 4: Evaluación y Análisis de los resultados\n",
        "- Después de realizar las 3 hipótesis sobre el dataset `ds_house`, correspondiente a información de precios de casas de acuerdo a las características de estas. Se observa que se aproxima a 0 el error medio cuadrático cuando se normaliza la variable objetivo en escala estándar.\n",
        "\n",
        "- Con respecto a los datos, se observa que al limitar los tipos de datos de las columnas, clasificar estas, de tal manera que se seleccionen las más representativas, ayuda a evaluar la población y definir que datos son importantes para predecir según lo esperado."
      ],
      "metadata": {
        "id": "irCZMR_zvSJn"
      }
    },
    {
      "cell_type": "markdown",
      "source": [
        "## Fase Opcional (Optativa)\n",
        "_Actividad Adicional:_\n",
        "Con respecto a publicar o generar el notebook en la nube (azure, GCP, aws) no lo pude realizar, ya que son versiones que necesitan ingresar tarjetas de crédito o formas de pago al registrarse, sin embargo, lo publiqué en mi repositorio de [GitHub](https://github.com/davidhurtadop/myRepository/blob/master/Proyecto_Final_Fundamentos_IA_y_Machine_Learning.ipynb)"
      ],
      "metadata": {
        "id": "EyrS5uPK7-Gr"
      }
    }
  ]
}
